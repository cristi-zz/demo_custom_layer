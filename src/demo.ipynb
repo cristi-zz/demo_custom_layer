{
 "cells": [
  {
   "cell_type": "code",
   "execution_count": null,
   "id": "4b65f6bb-42d7-4259-8556-49bcc2464b6e",
   "metadata": {},
   "outputs": [],
   "source": []
  },
  {
   "cell_type": "code",
   "execution_count": null,
   "id": "2f7b35c0-e5cb-4bb5-90e6-305e66126073",
   "metadata": {},
   "outputs": [],
   "source": [
    "%load_ext autoreload\n",
    "%autoreload 2\n",
    "%matplotlib widget\n",
    "import matplotlib\n",
    "import matplotlib.pyplot as plt\n",
    "\n",
    "import numpy as np\n",
    "import torch\n",
    "from torch import nn\n",
    "from fastcore.foundation import L\n",
    "from fastai.data.transforms import TfmdLists, DataLoaders, RandomSplitter, ToTensor\n",
    "from fastai.losses import MSELossFlat\n",
    "from fastai.learner import Learner\n",
    "import fastai.callback.schedule   # Needed for fit_one_cycle\n",
    "\n",
    "import custom_layers"
   ]
  },
  {
   "cell_type": "code",
   "execution_count": null,
   "id": "c742b6fa-4da5-44c6-972e-f20bb346141d",
   "metadata": {},
   "outputs": [],
   "source": [
    "def generate_data_for_one_feature_gauss_test(N:int, sample_len:int, noise:bool=True):\n",
    "    \"\"\"\n",
    "    Generate a bunch of sinus signals with various frequencies and a bit of noise.\n",
    "\n",
    "    Returns an array of size N x sample_len\n",
    "    \"\"\"\n",
    "    rnd_offsets = np.random.rand(N) * np.pi\n",
    "    rnd_frequencies = np.random.randint(1, 3, N)\n",
    "    signal = np.zeros((N, sample_len), np.float32)\n",
    "    for k in range(N):\n",
    "        signal[k, :] = np.linspace(0,  rnd_frequencies[k] * 2 * np.pi, sample_len) - rnd_offsets[k]\n",
    "        signal[k, :] = np.sin(signal[k, :])\n",
    "    if noise:\n",
    "        signal *= np.random.rand(N, sample_len)\n",
    "    return signal.astype(np.float32)\n",
    "\n",
    "\n",
    "def gen_gauss(x_arr, sigma, miu):\n",
    "    \"\"\"\n",
    "    Generates a Gaussian kernel with support x_arr and (miu, sigma) stats.\n",
    "    \"\"\"\n",
    "    x_arr_shift = x_arr - miu\n",
    "    gauss_kern = np.exp(-np.square(x_arr_shift) / (2*sigma*sigma))\n",
    "    gauss_kern = gauss_kern * 1 / (sigma * np.sqrt(2*np.pi))\n",
    "\n",
    "    return gauss_kern"
   ]
  },
  {
   "cell_type": "code",
   "execution_count": null,
   "id": "a7531d6a-e6db-446c-949c-fdec4f7912a6",
   "metadata": {},
   "outputs": [],
   "source": [
    "np.random.seed(343)\n",
    "sample_len = 100\n",
    "target_sigma = 3\n",
    "target_mu = -11.5\n",
    "\n",
    "signal = generate_data_for_one_feature_gauss_test(1, sample_len, True)  # A demo signal\n",
    "signal = signal[0]\n",
    "\n",
    "nk = sample_len - (1 - sample_len % 2)\n",
    "kernel_support = np.arange(-nk/2, nk/2, 1)\n",
    "kernel = gen_gauss(kernel_support, target_sigma, target_mu)  # A Gauss kernel\n",
    "kernel_zero_shift = gen_gauss(kernel_support, target_sigma, 0)  # A Gauss kernel with 0 shift\n",
    "filtered_sample = np.convolve(signal, kernel, mode='same')\n",
    "noshift_filter_sample = np.convolve(signal, kernel_zero_shift, mode='same')\n"
   ]
  },
  {
   "cell_type": "code",
   "execution_count": null,
   "id": "24a6a23e-a606-47e7-8834-f4c2941b439f",
   "metadata": {},
   "outputs": [],
   "source": [
    "fig, ax = plt.subplots(3,1, figsize=(8,6))\n",
    "ax[0].plot(signal, label=\"Original signal\")\n",
    "ax[0].set_ylim([-1, 1])\n",
    "ax[0].plot(noshift_filter_sample, label=\"Smoothed signal\")\n",
    "ax[0].legend()\n",
    "ax[0].set_title(\"Some sinusoid signal with noise\")\n",
    "ax[1].plot(kernel_support, kernel)\n",
    "ax[1].set_title(\"The Gauss kernel, with non zero mean\")\n",
    "ax[2].plot(filtered_sample, label=\"Transformed signal\")\n",
    "ax[2].plot(noshift_filter_sample, label=\"Smoothed signal\")\n",
    "ax[2].set_ylim([-1, 1])\n",
    "ax[2].legend()\n",
    "ax[2].set_title(\"Filtered signal. Note the shift!\")\n",
    "fig.tight_layout()"
   ]
  },
  {
   "cell_type": "markdown",
   "id": "ae5fb14e-dd4a-4afe-b2c4-8bdc6a35bedd",
   "metadata": {},
   "source": [
    "Can a network learn this smoothing and shifting, just by looking at a bunch of samples?\n",
    "\n",
    "Can our layer learn such a thing?"
   ]
  },
  {
   "cell_type": "code",
   "execution_count": null,
   "id": "96798816-b916-4291-b1e0-158a2e50ea41",
   "metadata": {},
   "outputs": [],
   "source": [
    "def display_a_sample(tls_train, sample_id, model, title):\n",
    "    sample = tls_train[sample_id][0]\n",
    "    sample_t = torch.tensor(sample, device=torch.device('cuda')).unsqueeze(0)\n",
    "    sample_gt = tls_train[sample_id][1]\n",
    "    transformed_signal = model(sample_t).detach().squeeze(0).cpu().numpy()\n",
    "    fig, ax = plt.subplots(2,1, figsize=(8,6))\n",
    "    ax[0].plot(sample, label=\"Original signal\")\n",
    "    ax[0].set_title(\"Data sample\")\n",
    "    ax[1].plot(transformed_signal, label=\"Network output\")\n",
    "    ax[1].plot(sample_gt, label=\"GT\")\n",
    "    ax[1].legend()\n",
    "    ax[1].set_title(\"Transformed data\")\n",
    "    fig.suptitle(title)\n",
    "    fig.tight_layout()"
   ]
  },
  {
   "cell_type": "code",
   "execution_count": null,
   "id": "52c473e7-ea27-4c4f-ae45-5e16aa55c9f7",
   "metadata": {},
   "outputs": [],
   "source": [
    "N = 500\n",
    "sample_id = 34  # We will watch this sample\n",
    "signals = generate_data_for_one_feature_gauss_test(N, sample_len, True)  # A bunch of signals\n",
    "gt_signals = []\n",
    "for k in range(N):\n",
    "    gt_sample = np.convolve(signals[k, :], kernel, mode='same')\n",
    "    gt_signals.append(gt_sample)\n",
    "gt_signals = np.array(gt_signals).astype(np.float32)\n",
    "train_samples = zip(signals, gt_signals)\n",
    "train_samples = L(train_samples)\n",
    "\n",
    "splits = RandomSplitter(0.1)(train_samples)\n",
    "tls_train = TfmdLists(train_samples[splits[0]], [ToTensor()])\n",
    "tls_test = TfmdLists(train_samples[splits[1]], [ToTensor()])\n",
    "dloaders = DataLoaders.from_dsets(tls_train, tls_test, bs=1, num_workers=4, device=torch.device('cuda'))\n",
    "model = custom_layers.GaussConvLayer_nobackwards().to(torch.device('cuda'))\n",
    "learner = Learner(dloaders, model, loss_func=MSELossFlat(reduction=\"mean\"), model_dir=\"../dump\")\n",
    "display_a_sample(tls_train, sample_id, model,\"Model after the initialization\")"
   ]
  },
  {
   "cell_type": "code",
   "execution_count": null,
   "id": "35223b4e-c470-488a-ba7a-4b5cc0971df0",
   "metadata": {},
   "outputs": [],
   "source": [
    "learner.fit_one_cycle(3, 1e-2)\n",
    "display_a_sample(tls_train, sample_id, model,\"Model after 3 epochs\")"
   ]
  },
  {
   "cell_type": "code",
   "execution_count": null,
   "id": "047e1330-0749-4a3c-9676-82354a28b52d",
   "metadata": {},
   "outputs": [],
   "source": [
    "learner.fit_one_cycle(3, 1e-2)\n",
    "display_a_sample(tls_train, sample_id, model,\"Model after 6 epochs\")"
   ]
  }
 ],
 "metadata": {
  "kernelspec": {
   "display_name": "Python 3 (ipykernel)",
   "language": "python",
   "name": "python3"
  },
  "language_info": {
   "codemirror_mode": {
    "name": "ipython",
    "version": 3
   },
   "file_extension": ".py",
   "mimetype": "text/x-python",
   "name": "python",
   "nbconvert_exporter": "python",
   "pygments_lexer": "ipython3",
   "version": "3.9.2"
  }
 },
 "nbformat": 4,
 "nbformat_minor": 5
}
