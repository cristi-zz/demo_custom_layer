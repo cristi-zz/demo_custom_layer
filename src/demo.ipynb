{
 "cells": [
  {
   "cell_type": "markdown",
   "id": "ba03d7a1-ebf4-4e15-9df4-bbac46d37b02",
   "metadata": {},
   "source": [
    "## Demonstration on how the Gauss filtering works and how its parameters can be learned."
   ]
  },
  {
   "cell_type": "code",
   "execution_count": 1,
   "id": "2f7b35c0-e5cb-4bb5-90e6-305e66126073",
   "metadata": {},
   "outputs": [],
   "source": [
    "%load_ext autoreload\n",
    "%autoreload 2\n",
    "%matplotlib widget\n",
    "import matplotlib\n",
    "import matplotlib.pyplot as plt\n",
    "import matplotlib.animation as animation\n",
    "import numpy as np\n",
    "import torch\n",
    "from torch import nn\n",
    "from fastcore.foundation import L\n",
    "from fastai.data.transforms import TfmdLists, DataLoaders, RandomSplitter, ToTensor\n",
    "from fastai.losses import MSELossFlat\n",
    "from fastai.learner import Learner\n",
    "import fastai.callback.schedule   # Needed for fit_one_cycle\n",
    "\n",
    "import custom_layers"
   ]
  },
  {
   "cell_type": "code",
   "execution_count": 2,
   "id": "c742b6fa-4da5-44c6-972e-f20bb346141d",
   "metadata": {},
   "outputs": [],
   "source": [
    "def generate_data_for_one_feature_gauss_test(N:int, sample_len:int, noise:bool=True):\n",
    "    \"\"\"\n",
    "    Generate a bunch of sinus signals with various frequencies and a bit of noise.\n",
    "\n",
    "    Returns an array of size N x sample_len\n",
    "    \"\"\"\n",
    "    rnd_offsets = np.random.rand(N) * np.pi\n",
    "    rnd_frequencies = np.random.randint(1, 3, N)\n",
    "    signal = np.zeros((N, sample_len), np.float32)\n",
    "    for k in range(N):\n",
    "        signal[k, :] = np.linspace(0,  rnd_frequencies[k] * 2 * np.pi, sample_len) - rnd_offsets[k]\n",
    "        signal[k, :] = np.sin(signal[k, :])\n",
    "    if noise:\n",
    "        signal *= np.random.rand(N, sample_len)\n",
    "    return signal.astype(np.float32)\n",
    "\n",
    "\n",
    "def gen_gauss(x_arr, sigma, miu):\n",
    "    \"\"\"\n",
    "    Generates a Gaussian kernel with support x_arr and (miu, sigma) stats.\n",
    "    \"\"\"\n",
    "    x_arr_shift = x_arr - miu\n",
    "    gauss_kern = np.exp(-np.square(x_arr_shift) / (2*sigma*sigma))\n",
    "    gauss_kern = gauss_kern * 1 / (sigma * np.sqrt(2*np.pi))\n",
    "\n",
    "    return gauss_kern"
   ]
  },
  {
   "cell_type": "markdown",
   "id": "877ecf75-9b6e-45d1-a839-0b7d41d32d66",
   "metadata": {},
   "source": [
    "Let's init some data. We set a target transformation and apply it to a bunch of random signals.\n",
    "\n",
    "Original data is the training data and the transformed data is the target (GT)"
   ]
  },
  {
   "cell_type": "code",
   "execution_count": 3,
   "id": "a7531d6a-e6db-446c-949c-fdec4f7912a6",
   "metadata": {},
   "outputs": [],
   "source": [
    "np.random.seed(343)\n",
    "sample_len = 100\n",
    "target_sigma = 3\n",
    "target_mu = -11.5\n",
    "\n",
    "signal = generate_data_for_one_feature_gauss_test(1, sample_len, True)  # A demo signal\n",
    "signal = signal[0]\n",
    "\n",
    "nk = sample_len - (1 - sample_len % 2)\n",
    "kernel_support = np.arange(-nk/2, nk/2, 1)\n",
    "kernel = gen_gauss(kernel_support, target_sigma, target_mu)  # A Gauss kernel\n",
    "kernel_zero_shift = gen_gauss(kernel_support, target_sigma, 0)  # A Gauss kernel with 0 shift\n",
    "filtered_sample = np.convolve(signal, kernel, mode='same')\n",
    "noshift_filter_sample = np.convolve(signal, kernel_zero_shift, mode='same')\n"
   ]
  },
  {
   "cell_type": "code",
   "execution_count": null,
   "id": "24a6a23e-a606-47e7-8834-f4c2941b439f",
   "metadata": {},
   "outputs": [],
   "source": [
    "fig, ax = plt.subplots(3,1, figsize=(8,6))\n",
    "ax[0].plot(signal, label=\"Original signal\")\n",
    "ax[0].set_ylim([-1, 1])\n",
    "ax[0].plot(noshift_filter_sample, label=\"Smoothed signal\")\n",
    "ax[0].legend()\n",
    "ax[0].set_title(\"Some sinusoid signal with noise\")\n",
    "ax[1].plot(kernel_support, kernel)\n",
    "ax[1].set_title(\"The Gauss kernel, with non zero mean\")\n",
    "ax[2].plot(filtered_sample, label=\"Transformed signal\")\n",
    "ax[2].plot(noshift_filter_sample, label=\"Smoothed signal\")\n",
    "ax[2].set_ylim([-1, 1])\n",
    "ax[2].legend()\n",
    "ax[2].set_title(\"Filtered signal. Note the shift!\")\n",
    "fig.tight_layout()\n",
    "fig.savefig(\"fig1_filtering.png\")"
   ]
  },
  {
   "cell_type": "markdown",
   "id": "ae5fb14e-dd4a-4afe-b2c4-8bdc6a35bedd",
   "metadata": {},
   "source": [
    "Can a network learn this smoothing and shifting, just by looking at a bunch of samples?\n",
    "\n",
    "Can our layer learn such a thing?"
   ]
  },
  {
   "cell_type": "code",
   "execution_count": 5,
   "id": "96798816-b916-4291-b1e0-158a2e50ea41",
   "metadata": {},
   "outputs": [],
   "source": [
    "def display_a_sample(tls_train, sample_id, model, title):\n",
    "    \"\"\"\n",
    "    Helper func to display a sample of data\n",
    "    \"\"\"\n",
    "    sample = tls_train[sample_id][0]\n",
    "    sample_t = torch.tensor(sample, device=torch.device('cuda')).unsqueeze(0)\n",
    "    sample_gt = tls_train[sample_id][1]\n",
    "    transformed_signal = model(sample_t).detach().squeeze(0).cpu().numpy()\n",
    "    fig, ax = plt.subplots(2,1, figsize=(8,6))\n",
    "    ax[0].plot(sample, label=\"Original signal\")\n",
    "    ax[0].set_title(\"Data sample\")\n",
    "    ax[1].plot(transformed_signal, label=\"Network output\")\n",
    "    ax[1].plot(sample_gt, label=\"GT\")\n",
    "    ax[1].legend()\n",
    "    ax[1].set_title(\"Transformed data\")\n",
    "    fig.suptitle(title)\n",
    "    fig.tight_layout()\n",
    "    return fig"
   ]
  },
  {
   "cell_type": "code",
   "execution_count": 4,
   "id": "52c473e7-ea27-4c4f-ae45-5e16aa55c9f7",
   "metadata": {},
   "outputs": [
    {
     "ename": "NameError",
     "evalue": "name 'display_a_sample' is not defined",
     "output_type": "error",
     "traceback": [
      "\u001b[0;31m---------------------------------------------------------------------------\u001b[0m",
      "\u001b[0;31mNameError\u001b[0m                                 Traceback (most recent call last)",
      "Input \u001b[0;32mIn [4]\u001b[0m, in \u001b[0;36m<cell line: 18>\u001b[0;34m()\u001b[0m\n\u001b[1;32m     16\u001b[0m model \u001b[38;5;241m=\u001b[39m custom_layers\u001b[38;5;241m.\u001b[39mGaussConvLayer_nobackwards()\u001b[38;5;241m.\u001b[39mto(torch\u001b[38;5;241m.\u001b[39mdevice(\u001b[38;5;124m'\u001b[39m\u001b[38;5;124mcuda\u001b[39m\u001b[38;5;124m'\u001b[39m))\n\u001b[1;32m     17\u001b[0m learner \u001b[38;5;241m=\u001b[39m Learner(dloaders, model, loss_func\u001b[38;5;241m=\u001b[39mMSELossFlat(reduction\u001b[38;5;241m=\u001b[39m\u001b[38;5;124m\"\u001b[39m\u001b[38;5;124mmean\u001b[39m\u001b[38;5;124m\"\u001b[39m), model_dir\u001b[38;5;241m=\u001b[39m\u001b[38;5;124m\"\u001b[39m\u001b[38;5;124m../dump\u001b[39m\u001b[38;5;124m\"\u001b[39m)\n\u001b[0;32m---> 18\u001b[0m fig \u001b[38;5;241m=\u001b[39m \u001b[43mdisplay_a_sample\u001b[49m(tls_train, sample_id, model,\u001b[38;5;124m\"\u001b[39m\u001b[38;5;124mModel after the initialization\u001b[39m\u001b[38;5;124m\"\u001b[39m)\n\u001b[1;32m     19\u001b[0m fig\u001b[38;5;241m.\u001b[39msavefig(\u001b[38;5;124m\"\u001b[39m\u001b[38;5;124mfig2_network_output.png\u001b[39m\u001b[38;5;124m\"\u001b[39m)\n",
      "\u001b[0;31mNameError\u001b[0m: name 'display_a_sample' is not defined"
     ]
    }
   ],
   "source": [
    "N = 500\n",
    "sample_id = 34  # We will watch this sample\n",
    "signals = generate_data_for_one_feature_gauss_test(N, sample_len, True)  # A bunch of signals\n",
    "gt_signals = []\n",
    "for k in range(N):\n",
    "    gt_sample = np.convolve(signals[k, :], kernel, mode='same')\n",
    "    gt_signals.append(gt_sample)\n",
    "gt_signals = np.array(gt_signals).astype(np.float32)\n",
    "train_samples = zip(signals, gt_signals)\n",
    "train_samples = L(train_samples)\n",
    "\n",
    "splits = RandomSplitter(0.1)(train_samples)\n",
    "tls_train = TfmdLists(train_samples[splits[0]], [ToTensor()])\n",
    "tls_test = TfmdLists(train_samples[splits[1]], [ToTensor()])\n",
    "dloaders = DataLoaders.from_dsets(tls_train, tls_test, bs=1, num_workers=4, device=torch.device('cuda'))\n",
    "model = custom_layers.GaussConvLayer_nobackwards().to(torch.device('cuda'))\n",
    "learner = Learner(dloaders, model, loss_func=MSELossFlat(reduction=\"mean\"), model_dir=\"../dump\")\n",
    "fig = display_a_sample(tls_train, sample_id, model,\"Model after the initialization\")\n",
    "fig.savefig(\"fig2_network_output.png\")"
   ]
  },
  {
   "cell_type": "code",
   "execution_count": null,
   "id": "047e1330-0749-4a3c-9676-82354a28b52d",
   "metadata": {},
   "outputs": [],
   "source": [
    "learner.fit_one_cycle(6, 1e-2)\n",
    "display_a_sample(tls_train, sample_id, model,\"Model after 6 epochs\");"
   ]
  },
  {
   "cell_type": "markdown",
   "id": "b62bf62c-a870-494d-ac79-a60ba5d41bbb",
   "metadata": {},
   "source": [
    "Let's generate a nice graph showing how the parameters evolve during learning. We set a small LR so we \"see\" something."
   ]
  },
  {
   "cell_type": "code",
   "execution_count": 6,
   "id": "9f35cdf6-f458-4379-878e-11041c21c356",
   "metadata": {},
   "outputs": [
    {
     "data": {
      "text/html": [
       "\n",
       "<style>\n",
       "    /* Turns off some styling */\n",
       "    progress {\n",
       "        /* gets rid of default border in Firefox and Opera. */\n",
       "        border: none;\n",
       "        /* Needs to be in here for Safari polyfill so background images work as expected. */\n",
       "        background-size: auto;\n",
       "    }\n",
       "    progress:not([value]), progress:not([value])::-webkit-progress-bar {\n",
       "        background: repeating-linear-gradient(45deg, #7e7e7e, #7e7e7e 10px, #5c5c5c 10px, #5c5c5c 20px);\n",
       "    }\n",
       "    .progress-bar-interrupted, .progress-bar-interrupted::-webkit-progress-bar {\n",
       "        background: #F44336;\n",
       "    }\n",
       "</style>\n"
      ],
      "text/plain": [
       "<IPython.core.display.HTML object>"
      ]
     },
     "metadata": {},
     "output_type": "display_data"
    },
    {
     "data": {
      "text/html": [
       "<table border=\"1\" class=\"dataframe\">\n",
       "  <thead>\n",
       "    <tr style=\"text-align: left;\">\n",
       "      <th>epoch</th>\n",
       "      <th>train_loss</th>\n",
       "      <th>valid_loss</th>\n",
       "      <th>time</th>\n",
       "    </tr>\n",
       "  </thead>\n",
       "  <tbody>\n",
       "    <tr>\n",
       "      <td>0</td>\n",
       "      <td>0.138397</td>\n",
       "      <td>0.140315</td>\n",
       "      <td>00:03</td>\n",
       "    </tr>\n",
       "  </tbody>\n",
       "</table>"
      ],
      "text/plain": [
       "<IPython.core.display.HTML object>"
      ]
     },
     "metadata": {},
     "output_type": "display_data"
    },
    {
     "data": {
      "text/html": [
       "\n",
       "<style>\n",
       "    /* Turns off some styling */\n",
       "    progress {\n",
       "        /* gets rid of default border in Firefox and Opera. */\n",
       "        border: none;\n",
       "        /* Needs to be in here for Safari polyfill so background images work as expected. */\n",
       "        background-size: auto;\n",
       "    }\n",
       "    progress:not([value]), progress:not([value])::-webkit-progress-bar {\n",
       "        background: repeating-linear-gradient(45deg, #7e7e7e, #7e7e7e 10px, #5c5c5c 10px, #5c5c5c 20px);\n",
       "    }\n",
       "    .progress-bar-interrupted, .progress-bar-interrupted::-webkit-progress-bar {\n",
       "        background: #F44336;\n",
       "    }\n",
       "</style>\n"
      ],
      "text/plain": [
       "<IPython.core.display.HTML object>"
      ]
     },
     "metadata": {},
     "output_type": "display_data"
    },
    {
     "data": {
      "text/html": [
       "<table border=\"1\" class=\"dataframe\">\n",
       "  <thead>\n",
       "    <tr style=\"text-align: left;\">\n",
       "      <th>epoch</th>\n",
       "      <th>train_loss</th>\n",
       "      <th>valid_loss</th>\n",
       "      <th>time</th>\n",
       "    </tr>\n",
       "  </thead>\n",
       "  <tbody>\n",
       "    <tr>\n",
       "      <td>0</td>\n",
       "      <td>0.115908</td>\n",
       "      <td>0.129088</td>\n",
       "      <td>00:03</td>\n",
       "    </tr>\n",
       "  </tbody>\n",
       "</table>"
      ],
      "text/plain": [
       "<IPython.core.display.HTML object>"
      ]
     },
     "metadata": {},
     "output_type": "display_data"
    },
    {
     "data": {
      "text/html": [
       "\n",
       "<style>\n",
       "    /* Turns off some styling */\n",
       "    progress {\n",
       "        /* gets rid of default border in Firefox and Opera. */\n",
       "        border: none;\n",
       "        /* Needs to be in here for Safari polyfill so background images work as expected. */\n",
       "        background-size: auto;\n",
       "    }\n",
       "    progress:not([value]), progress:not([value])::-webkit-progress-bar {\n",
       "        background: repeating-linear-gradient(45deg, #7e7e7e, #7e7e7e 10px, #5c5c5c 10px, #5c5c5c 20px);\n",
       "    }\n",
       "    .progress-bar-interrupted, .progress-bar-interrupted::-webkit-progress-bar {\n",
       "        background: #F44336;\n",
       "    }\n",
       "</style>\n"
      ],
      "text/plain": [
       "<IPython.core.display.HTML object>"
      ]
     },
     "metadata": {},
     "output_type": "display_data"
    },
    {
     "data": {
      "text/html": [
       "<table border=\"1\" class=\"dataframe\">\n",
       "  <thead>\n",
       "    <tr style=\"text-align: left;\">\n",
       "      <th>epoch</th>\n",
       "      <th>train_loss</th>\n",
       "      <th>valid_loss</th>\n",
       "      <th>time</th>\n",
       "    </tr>\n",
       "  </thead>\n",
       "  <tbody>\n",
       "    <tr>\n",
       "      <td>0</td>\n",
       "      <td>0.110171</td>\n",
       "      <td>0.118525</td>\n",
       "      <td>00:03</td>\n",
       "    </tr>\n",
       "  </tbody>\n",
       "</table>"
      ],
      "text/plain": [
       "<IPython.core.display.HTML object>"
      ]
     },
     "metadata": {},
     "output_type": "display_data"
    },
    {
     "data": {
      "text/html": [
       "\n",
       "<style>\n",
       "    /* Turns off some styling */\n",
       "    progress {\n",
       "        /* gets rid of default border in Firefox and Opera. */\n",
       "        border: none;\n",
       "        /* Needs to be in here for Safari polyfill so background images work as expected. */\n",
       "        background-size: auto;\n",
       "    }\n",
       "    progress:not([value]), progress:not([value])::-webkit-progress-bar {\n",
       "        background: repeating-linear-gradient(45deg, #7e7e7e, #7e7e7e 10px, #5c5c5c 10px, #5c5c5c 20px);\n",
       "    }\n",
       "    .progress-bar-interrupted, .progress-bar-interrupted::-webkit-progress-bar {\n",
       "        background: #F44336;\n",
       "    }\n",
       "</style>\n"
      ],
      "text/plain": [
       "<IPython.core.display.HTML object>"
      ]
     },
     "metadata": {},
     "output_type": "display_data"
    },
    {
     "data": {
      "text/html": [
       "<table border=\"1\" class=\"dataframe\">\n",
       "  <thead>\n",
       "    <tr style=\"text-align: left;\">\n",
       "      <th>epoch</th>\n",
       "      <th>train_loss</th>\n",
       "      <th>valid_loss</th>\n",
       "      <th>time</th>\n",
       "    </tr>\n",
       "  </thead>\n",
       "  <tbody>\n",
       "    <tr>\n",
       "      <td>0</td>\n",
       "      <td>0.099427</td>\n",
       "      <td>0.108426</td>\n",
       "      <td>00:03</td>\n",
       "    </tr>\n",
       "  </tbody>\n",
       "</table>"
      ],
      "text/plain": [
       "<IPython.core.display.HTML object>"
      ]
     },
     "metadata": {},
     "output_type": "display_data"
    },
    {
     "data": {
      "text/html": [
       "\n",
       "<style>\n",
       "    /* Turns off some styling */\n",
       "    progress {\n",
       "        /* gets rid of default border in Firefox and Opera. */\n",
       "        border: none;\n",
       "        /* Needs to be in here for Safari polyfill so background images work as expected. */\n",
       "        background-size: auto;\n",
       "    }\n",
       "    progress:not([value]), progress:not([value])::-webkit-progress-bar {\n",
       "        background: repeating-linear-gradient(45deg, #7e7e7e, #7e7e7e 10px, #5c5c5c 10px, #5c5c5c 20px);\n",
       "    }\n",
       "    .progress-bar-interrupted, .progress-bar-interrupted::-webkit-progress-bar {\n",
       "        background: #F44336;\n",
       "    }\n",
       "</style>\n"
      ],
      "text/plain": [
       "<IPython.core.display.HTML object>"
      ]
     },
     "metadata": {},
     "output_type": "display_data"
    },
    {
     "data": {
      "text/html": [
       "<table border=\"1\" class=\"dataframe\">\n",
       "  <thead>\n",
       "    <tr style=\"text-align: left;\">\n",
       "      <th>epoch</th>\n",
       "      <th>train_loss</th>\n",
       "      <th>valid_loss</th>\n",
       "      <th>time</th>\n",
       "    </tr>\n",
       "  </thead>\n",
       "  <tbody>\n",
       "    <tr>\n",
       "      <td>0</td>\n",
       "      <td>0.093569</td>\n",
       "      <td>0.098910</td>\n",
       "      <td>00:03</td>\n",
       "    </tr>\n",
       "  </tbody>\n",
       "</table>"
      ],
      "text/plain": [
       "<IPython.core.display.HTML object>"
      ]
     },
     "metadata": {},
     "output_type": "display_data"
    },
    {
     "data": {
      "text/html": [
       "\n",
       "<style>\n",
       "    /* Turns off some styling */\n",
       "    progress {\n",
       "        /* gets rid of default border in Firefox and Opera. */\n",
       "        border: none;\n",
       "        /* Needs to be in here for Safari polyfill so background images work as expected. */\n",
       "        background-size: auto;\n",
       "    }\n",
       "    progress:not([value]), progress:not([value])::-webkit-progress-bar {\n",
       "        background: repeating-linear-gradient(45deg, #7e7e7e, #7e7e7e 10px, #5c5c5c 10px, #5c5c5c 20px);\n",
       "    }\n",
       "    .progress-bar-interrupted, .progress-bar-interrupted::-webkit-progress-bar {\n",
       "        background: #F44336;\n",
       "    }\n",
       "</style>\n"
      ],
      "text/plain": [
       "<IPython.core.display.HTML object>"
      ]
     },
     "metadata": {},
     "output_type": "display_data"
    },
    {
     "data": {
      "text/html": [
       "<table border=\"1\" class=\"dataframe\">\n",
       "  <thead>\n",
       "    <tr style=\"text-align: left;\">\n",
       "      <th>epoch</th>\n",
       "      <th>train_loss</th>\n",
       "      <th>valid_loss</th>\n",
       "      <th>time</th>\n",
       "    </tr>\n",
       "  </thead>\n",
       "  <tbody>\n",
       "    <tr>\n",
       "      <td>0</td>\n",
       "      <td>0.081050</td>\n",
       "      <td>0.089555</td>\n",
       "      <td>00:03</td>\n",
       "    </tr>\n",
       "  </tbody>\n",
       "</table>"
      ],
      "text/plain": [
       "<IPython.core.display.HTML object>"
      ]
     },
     "metadata": {},
     "output_type": "display_data"
    },
    {
     "data": {
      "text/html": [
       "\n",
       "<style>\n",
       "    /* Turns off some styling */\n",
       "    progress {\n",
       "        /* gets rid of default border in Firefox and Opera. */\n",
       "        border: none;\n",
       "        /* Needs to be in here for Safari polyfill so background images work as expected. */\n",
       "        background-size: auto;\n",
       "    }\n",
       "    progress:not([value]), progress:not([value])::-webkit-progress-bar {\n",
       "        background: repeating-linear-gradient(45deg, #7e7e7e, #7e7e7e 10px, #5c5c5c 10px, #5c5c5c 20px);\n",
       "    }\n",
       "    .progress-bar-interrupted, .progress-bar-interrupted::-webkit-progress-bar {\n",
       "        background: #F44336;\n",
       "    }\n",
       "</style>\n"
      ],
      "text/plain": [
       "<IPython.core.display.HTML object>"
      ]
     },
     "metadata": {},
     "output_type": "display_data"
    },
    {
     "data": {
      "text/html": [
       "<table border=\"1\" class=\"dataframe\">\n",
       "  <thead>\n",
       "    <tr style=\"text-align: left;\">\n",
       "      <th>epoch</th>\n",
       "      <th>train_loss</th>\n",
       "      <th>valid_loss</th>\n",
       "      <th>time</th>\n",
       "    </tr>\n",
       "  </thead>\n",
       "  <tbody>\n",
       "    <tr>\n",
       "      <td>0</td>\n",
       "      <td>0.072834</td>\n",
       "      <td>0.080784</td>\n",
       "      <td>00:03</td>\n",
       "    </tr>\n",
       "  </tbody>\n",
       "</table>"
      ],
      "text/plain": [
       "<IPython.core.display.HTML object>"
      ]
     },
     "metadata": {},
     "output_type": "display_data"
    },
    {
     "data": {
      "text/html": [
       "\n",
       "<style>\n",
       "    /* Turns off some styling */\n",
       "    progress {\n",
       "        /* gets rid of default border in Firefox and Opera. */\n",
       "        border: none;\n",
       "        /* Needs to be in here for Safari polyfill so background images work as expected. */\n",
       "        background-size: auto;\n",
       "    }\n",
       "    progress:not([value]), progress:not([value])::-webkit-progress-bar {\n",
       "        background: repeating-linear-gradient(45deg, #7e7e7e, #7e7e7e 10px, #5c5c5c 10px, #5c5c5c 20px);\n",
       "    }\n",
       "    .progress-bar-interrupted, .progress-bar-interrupted::-webkit-progress-bar {\n",
       "        background: #F44336;\n",
       "    }\n",
       "</style>\n"
      ],
      "text/plain": [
       "<IPython.core.display.HTML object>"
      ]
     },
     "metadata": {},
     "output_type": "display_data"
    },
    {
     "data": {
      "text/html": [
       "<table border=\"1\" class=\"dataframe\">\n",
       "  <thead>\n",
       "    <tr style=\"text-align: left;\">\n",
       "      <th>epoch</th>\n",
       "      <th>train_loss</th>\n",
       "      <th>valid_loss</th>\n",
       "      <th>time</th>\n",
       "    </tr>\n",
       "  </thead>\n",
       "  <tbody>\n",
       "    <tr>\n",
       "      <td>0</td>\n",
       "      <td>0.074176</td>\n",
       "      <td>0.072354</td>\n",
       "      <td>00:03</td>\n",
       "    </tr>\n",
       "  </tbody>\n",
       "</table>"
      ],
      "text/plain": [
       "<IPython.core.display.HTML object>"
      ]
     },
     "metadata": {},
     "output_type": "display_data"
    },
    {
     "data": {
      "text/html": [
       "\n",
       "<style>\n",
       "    /* Turns off some styling */\n",
       "    progress {\n",
       "        /* gets rid of default border in Firefox and Opera. */\n",
       "        border: none;\n",
       "        /* Needs to be in here for Safari polyfill so background images work as expected. */\n",
       "        background-size: auto;\n",
       "    }\n",
       "    progress:not([value]), progress:not([value])::-webkit-progress-bar {\n",
       "        background: repeating-linear-gradient(45deg, #7e7e7e, #7e7e7e 10px, #5c5c5c 10px, #5c5c5c 20px);\n",
       "    }\n",
       "    .progress-bar-interrupted, .progress-bar-interrupted::-webkit-progress-bar {\n",
       "        background: #F44336;\n",
       "    }\n",
       "</style>\n"
      ],
      "text/plain": [
       "<IPython.core.display.HTML object>"
      ]
     },
     "metadata": {},
     "output_type": "display_data"
    },
    {
     "data": {
      "text/html": [
       "<table border=\"1\" class=\"dataframe\">\n",
       "  <thead>\n",
       "    <tr style=\"text-align: left;\">\n",
       "      <th>epoch</th>\n",
       "      <th>train_loss</th>\n",
       "      <th>valid_loss</th>\n",
       "      <th>time</th>\n",
       "    </tr>\n",
       "  </thead>\n",
       "  <tbody>\n",
       "    <tr>\n",
       "      <td>0</td>\n",
       "      <td>0.055537</td>\n",
       "      <td>0.064894</td>\n",
       "      <td>00:03</td>\n",
       "    </tr>\n",
       "  </tbody>\n",
       "</table>"
      ],
      "text/plain": [
       "<IPython.core.display.HTML object>"
      ]
     },
     "metadata": {},
     "output_type": "display_data"
    },
    {
     "data": {
      "text/html": [
       "\n",
       "<style>\n",
       "    /* Turns off some styling */\n",
       "    progress {\n",
       "        /* gets rid of default border in Firefox and Opera. */\n",
       "        border: none;\n",
       "        /* Needs to be in here for Safari polyfill so background images work as expected. */\n",
       "        background-size: auto;\n",
       "    }\n",
       "    progress:not([value]), progress:not([value])::-webkit-progress-bar {\n",
       "        background: repeating-linear-gradient(45deg, #7e7e7e, #7e7e7e 10px, #5c5c5c 10px, #5c5c5c 20px);\n",
       "    }\n",
       "    .progress-bar-interrupted, .progress-bar-interrupted::-webkit-progress-bar {\n",
       "        background: #F44336;\n",
       "    }\n",
       "</style>\n"
      ],
      "text/plain": [
       "<IPython.core.display.HTML object>"
      ]
     },
     "metadata": {},
     "output_type": "display_data"
    },
    {
     "data": {
      "text/html": [
       "<table border=\"1\" class=\"dataframe\">\n",
       "  <thead>\n",
       "    <tr style=\"text-align: left;\">\n",
       "      <th>epoch</th>\n",
       "      <th>train_loss</th>\n",
       "      <th>valid_loss</th>\n",
       "      <th>time</th>\n",
       "    </tr>\n",
       "  </thead>\n",
       "  <tbody>\n",
       "    <tr>\n",
       "      <td>0</td>\n",
       "      <td>0.055373</td>\n",
       "      <td>0.057852</td>\n",
       "      <td>00:03</td>\n",
       "    </tr>\n",
       "  </tbody>\n",
       "</table>"
      ],
      "text/plain": [
       "<IPython.core.display.HTML object>"
      ]
     },
     "metadata": {},
     "output_type": "display_data"
    },
    {
     "data": {
      "text/html": [
       "\n",
       "<style>\n",
       "    /* Turns off some styling */\n",
       "    progress {\n",
       "        /* gets rid of default border in Firefox and Opera. */\n",
       "        border: none;\n",
       "        /* Needs to be in here for Safari polyfill so background images work as expected. */\n",
       "        background-size: auto;\n",
       "    }\n",
       "    progress:not([value]), progress:not([value])::-webkit-progress-bar {\n",
       "        background: repeating-linear-gradient(45deg, #7e7e7e, #7e7e7e 10px, #5c5c5c 10px, #5c5c5c 20px);\n",
       "    }\n",
       "    .progress-bar-interrupted, .progress-bar-interrupted::-webkit-progress-bar {\n",
       "        background: #F44336;\n",
       "    }\n",
       "</style>\n"
      ],
      "text/plain": [
       "<IPython.core.display.HTML object>"
      ]
     },
     "metadata": {},
     "output_type": "display_data"
    },
    {
     "data": {
      "text/html": [
       "<table border=\"1\" class=\"dataframe\">\n",
       "  <thead>\n",
       "    <tr style=\"text-align: left;\">\n",
       "      <th>epoch</th>\n",
       "      <th>train_loss</th>\n",
       "      <th>valid_loss</th>\n",
       "      <th>time</th>\n",
       "    </tr>\n",
       "  </thead>\n",
       "  <tbody>\n",
       "    <tr>\n",
       "      <td>0</td>\n",
       "      <td>0.048135</td>\n",
       "      <td>0.051451</td>\n",
       "      <td>00:03</td>\n",
       "    </tr>\n",
       "  </tbody>\n",
       "</table>"
      ],
      "text/plain": [
       "<IPython.core.display.HTML object>"
      ]
     },
     "metadata": {},
     "output_type": "display_data"
    },
    {
     "data": {
      "text/html": [
       "\n",
       "<style>\n",
       "    /* Turns off some styling */\n",
       "    progress {\n",
       "        /* gets rid of default border in Firefox and Opera. */\n",
       "        border: none;\n",
       "        /* Needs to be in here for Safari polyfill so background images work as expected. */\n",
       "        background-size: auto;\n",
       "    }\n",
       "    progress:not([value]), progress:not([value])::-webkit-progress-bar {\n",
       "        background: repeating-linear-gradient(45deg, #7e7e7e, #7e7e7e 10px, #5c5c5c 10px, #5c5c5c 20px);\n",
       "    }\n",
       "    .progress-bar-interrupted, .progress-bar-interrupted::-webkit-progress-bar {\n",
       "        background: #F44336;\n",
       "    }\n",
       "</style>\n"
      ],
      "text/plain": [
       "<IPython.core.display.HTML object>"
      ]
     },
     "metadata": {},
     "output_type": "display_data"
    },
    {
     "data": {
      "text/html": [
       "<table border=\"1\" class=\"dataframe\">\n",
       "  <thead>\n",
       "    <tr style=\"text-align: left;\">\n",
       "      <th>epoch</th>\n",
       "      <th>train_loss</th>\n",
       "      <th>valid_loss</th>\n",
       "      <th>time</th>\n",
       "    </tr>\n",
       "  </thead>\n",
       "  <tbody>\n",
       "    <tr>\n",
       "      <td>0</td>\n",
       "      <td>0.042002</td>\n",
       "      <td>0.045641</td>\n",
       "      <td>00:04</td>\n",
       "    </tr>\n",
       "  </tbody>\n",
       "</table>"
      ],
      "text/plain": [
       "<IPython.core.display.HTML object>"
      ]
     },
     "metadata": {},
     "output_type": "display_data"
    },
    {
     "data": {
      "text/html": [
       "\n",
       "<style>\n",
       "    /* Turns off some styling */\n",
       "    progress {\n",
       "        /* gets rid of default border in Firefox and Opera. */\n",
       "        border: none;\n",
       "        /* Needs to be in here for Safari polyfill so background images work as expected. */\n",
       "        background-size: auto;\n",
       "    }\n",
       "    progress:not([value]), progress:not([value])::-webkit-progress-bar {\n",
       "        background: repeating-linear-gradient(45deg, #7e7e7e, #7e7e7e 10px, #5c5c5c 10px, #5c5c5c 20px);\n",
       "    }\n",
       "    .progress-bar-interrupted, .progress-bar-interrupted::-webkit-progress-bar {\n",
       "        background: #F44336;\n",
       "    }\n",
       "</style>\n"
      ],
      "text/plain": [
       "<IPython.core.display.HTML object>"
      ]
     },
     "metadata": {},
     "output_type": "display_data"
    },
    {
     "data": {
      "text/html": [
       "<table border=\"1\" class=\"dataframe\">\n",
       "  <thead>\n",
       "    <tr style=\"text-align: left;\">\n",
       "      <th>epoch</th>\n",
       "      <th>train_loss</th>\n",
       "      <th>valid_loss</th>\n",
       "      <th>time</th>\n",
       "    </tr>\n",
       "  </thead>\n",
       "  <tbody>\n",
       "    <tr>\n",
       "      <td>0</td>\n",
       "      <td>0.039499</td>\n",
       "      <td>0.040618</td>\n",
       "      <td>00:03</td>\n",
       "    </tr>\n",
       "  </tbody>\n",
       "</table>"
      ],
      "text/plain": [
       "<IPython.core.display.HTML object>"
      ]
     },
     "metadata": {},
     "output_type": "display_data"
    },
    {
     "data": {
      "text/html": [
       "\n",
       "<style>\n",
       "    /* Turns off some styling */\n",
       "    progress {\n",
       "        /* gets rid of default border in Firefox and Opera. */\n",
       "        border: none;\n",
       "        /* Needs to be in here for Safari polyfill so background images work as expected. */\n",
       "        background-size: auto;\n",
       "    }\n",
       "    progress:not([value]), progress:not([value])::-webkit-progress-bar {\n",
       "        background: repeating-linear-gradient(45deg, #7e7e7e, #7e7e7e 10px, #5c5c5c 10px, #5c5c5c 20px);\n",
       "    }\n",
       "    .progress-bar-interrupted, .progress-bar-interrupted::-webkit-progress-bar {\n",
       "        background: #F44336;\n",
       "    }\n",
       "</style>\n"
      ],
      "text/plain": [
       "<IPython.core.display.HTML object>"
      ]
     },
     "metadata": {},
     "output_type": "display_data"
    },
    {
     "data": {
      "text/html": [
       "<table border=\"1\" class=\"dataframe\">\n",
       "  <thead>\n",
       "    <tr style=\"text-align: left;\">\n",
       "      <th>epoch</th>\n",
       "      <th>train_loss</th>\n",
       "      <th>valid_loss</th>\n",
       "      <th>time</th>\n",
       "    </tr>\n",
       "  </thead>\n",
       "  <tbody>\n",
       "    <tr>\n",
       "      <td>0</td>\n",
       "      <td>0.034086</td>\n",
       "      <td>0.036096</td>\n",
       "      <td>00:03</td>\n",
       "    </tr>\n",
       "  </tbody>\n",
       "</table>"
      ],
      "text/plain": [
       "<IPython.core.display.HTML object>"
      ]
     },
     "metadata": {},
     "output_type": "display_data"
    },
    {
     "data": {
      "text/html": [
       "\n",
       "<style>\n",
       "    /* Turns off some styling */\n",
       "    progress {\n",
       "        /* gets rid of default border in Firefox and Opera. */\n",
       "        border: none;\n",
       "        /* Needs to be in here for Safari polyfill so background images work as expected. */\n",
       "        background-size: auto;\n",
       "    }\n",
       "    progress:not([value]), progress:not([value])::-webkit-progress-bar {\n",
       "        background: repeating-linear-gradient(45deg, #7e7e7e, #7e7e7e 10px, #5c5c5c 10px, #5c5c5c 20px);\n",
       "    }\n",
       "    .progress-bar-interrupted, .progress-bar-interrupted::-webkit-progress-bar {\n",
       "        background: #F44336;\n",
       "    }\n",
       "</style>\n"
      ],
      "text/plain": [
       "<IPython.core.display.HTML object>"
      ]
     },
     "metadata": {},
     "output_type": "display_data"
    },
    {
     "data": {
      "text/html": [
       "<table border=\"1\" class=\"dataframe\">\n",
       "  <thead>\n",
       "    <tr style=\"text-align: left;\">\n",
       "      <th>epoch</th>\n",
       "      <th>train_loss</th>\n",
       "      <th>valid_loss</th>\n",
       "      <th>time</th>\n",
       "    </tr>\n",
       "  </thead>\n",
       "  <tbody>\n",
       "    <tr>\n",
       "      <td>0</td>\n",
       "      <td>0.031478</td>\n",
       "      <td>0.032212</td>\n",
       "      <td>00:03</td>\n",
       "    </tr>\n",
       "  </tbody>\n",
       "</table>"
      ],
      "text/plain": [
       "<IPython.core.display.HTML object>"
      ]
     },
     "metadata": {},
     "output_type": "display_data"
    },
    {
     "data": {
      "text/html": [
       "\n",
       "<style>\n",
       "    /* Turns off some styling */\n",
       "    progress {\n",
       "        /* gets rid of default border in Firefox and Opera. */\n",
       "        border: none;\n",
       "        /* Needs to be in here for Safari polyfill so background images work as expected. */\n",
       "        background-size: auto;\n",
       "    }\n",
       "    progress:not([value]), progress:not([value])::-webkit-progress-bar {\n",
       "        background: repeating-linear-gradient(45deg, #7e7e7e, #7e7e7e 10px, #5c5c5c 10px, #5c5c5c 20px);\n",
       "    }\n",
       "    .progress-bar-interrupted, .progress-bar-interrupted::-webkit-progress-bar {\n",
       "        background: #F44336;\n",
       "    }\n",
       "</style>\n"
      ],
      "text/plain": [
       "<IPython.core.display.HTML object>"
      ]
     },
     "metadata": {},
     "output_type": "display_data"
    },
    {
     "data": {
      "text/html": [
       "<table border=\"1\" class=\"dataframe\">\n",
       "  <thead>\n",
       "    <tr style=\"text-align: left;\">\n",
       "      <th>epoch</th>\n",
       "      <th>train_loss</th>\n",
       "      <th>valid_loss</th>\n",
       "      <th>time</th>\n",
       "    </tr>\n",
       "  </thead>\n",
       "  <tbody>\n",
       "    <tr>\n",
       "      <td>0</td>\n",
       "      <td>0.025917</td>\n",
       "      <td>0.028786</td>\n",
       "      <td>00:03</td>\n",
       "    </tr>\n",
       "  </tbody>\n",
       "</table>"
      ],
      "text/plain": [
       "<IPython.core.display.HTML object>"
      ]
     },
     "metadata": {},
     "output_type": "display_data"
    },
    {
     "data": {
      "text/html": [
       "\n",
       "<style>\n",
       "    /* Turns off some styling */\n",
       "    progress {\n",
       "        /* gets rid of default border in Firefox and Opera. */\n",
       "        border: none;\n",
       "        /* Needs to be in here for Safari polyfill so background images work as expected. */\n",
       "        background-size: auto;\n",
       "    }\n",
       "    progress:not([value]), progress:not([value])::-webkit-progress-bar {\n",
       "        background: repeating-linear-gradient(45deg, #7e7e7e, #7e7e7e 10px, #5c5c5c 10px, #5c5c5c 20px);\n",
       "    }\n",
       "    .progress-bar-interrupted, .progress-bar-interrupted::-webkit-progress-bar {\n",
       "        background: #F44336;\n",
       "    }\n",
       "</style>\n"
      ],
      "text/plain": [
       "<IPython.core.display.HTML object>"
      ]
     },
     "metadata": {},
     "output_type": "display_data"
    },
    {
     "data": {
      "text/html": [
       "<table border=\"1\" class=\"dataframe\">\n",
       "  <thead>\n",
       "    <tr style=\"text-align: left;\">\n",
       "      <th>epoch</th>\n",
       "      <th>train_loss</th>\n",
       "      <th>valid_loss</th>\n",
       "      <th>time</th>\n",
       "    </tr>\n",
       "  </thead>\n",
       "  <tbody>\n",
       "    <tr>\n",
       "      <td>0</td>\n",
       "      <td>0.023868</td>\n",
       "      <td>0.025370</td>\n",
       "      <td>00:03</td>\n",
       "    </tr>\n",
       "  </tbody>\n",
       "</table>"
      ],
      "text/plain": [
       "<IPython.core.display.HTML object>"
      ]
     },
     "metadata": {},
     "output_type": "display_data"
    },
    {
     "data": {
      "text/html": [
       "\n",
       "<style>\n",
       "    /* Turns off some styling */\n",
       "    progress {\n",
       "        /* gets rid of default border in Firefox and Opera. */\n",
       "        border: none;\n",
       "        /* Needs to be in here for Safari polyfill so background images work as expected. */\n",
       "        background-size: auto;\n",
       "    }\n",
       "    progress:not([value]), progress:not([value])::-webkit-progress-bar {\n",
       "        background: repeating-linear-gradient(45deg, #7e7e7e, #7e7e7e 10px, #5c5c5c 10px, #5c5c5c 20px);\n",
       "    }\n",
       "    .progress-bar-interrupted, .progress-bar-interrupted::-webkit-progress-bar {\n",
       "        background: #F44336;\n",
       "    }\n",
       "</style>\n"
      ],
      "text/plain": [
       "<IPython.core.display.HTML object>"
      ]
     },
     "metadata": {},
     "output_type": "display_data"
    },
    {
     "data": {
      "text/html": [
       "<table border=\"1\" class=\"dataframe\">\n",
       "  <thead>\n",
       "    <tr style=\"text-align: left;\">\n",
       "      <th>epoch</th>\n",
       "      <th>train_loss</th>\n",
       "      <th>valid_loss</th>\n",
       "      <th>time</th>\n",
       "    </tr>\n",
       "  </thead>\n",
       "  <tbody>\n",
       "    <tr>\n",
       "      <td>0</td>\n",
       "      <td>0.020228</td>\n",
       "      <td>0.022116</td>\n",
       "      <td>00:03</td>\n",
       "    </tr>\n",
       "  </tbody>\n",
       "</table>"
      ],
      "text/plain": [
       "<IPython.core.display.HTML object>"
      ]
     },
     "metadata": {},
     "output_type": "display_data"
    },
    {
     "data": {
      "text/html": [
       "\n",
       "<style>\n",
       "    /* Turns off some styling */\n",
       "    progress {\n",
       "        /* gets rid of default border in Firefox and Opera. */\n",
       "        border: none;\n",
       "        /* Needs to be in here for Safari polyfill so background images work as expected. */\n",
       "        background-size: auto;\n",
       "    }\n",
       "    progress:not([value]), progress:not([value])::-webkit-progress-bar {\n",
       "        background: repeating-linear-gradient(45deg, #7e7e7e, #7e7e7e 10px, #5c5c5c 10px, #5c5c5c 20px);\n",
       "    }\n",
       "    .progress-bar-interrupted, .progress-bar-interrupted::-webkit-progress-bar {\n",
       "        background: #F44336;\n",
       "    }\n",
       "</style>\n"
      ],
      "text/plain": [
       "<IPython.core.display.HTML object>"
      ]
     },
     "metadata": {},
     "output_type": "display_data"
    },
    {
     "data": {
      "text/html": [
       "<table border=\"1\" class=\"dataframe\">\n",
       "  <thead>\n",
       "    <tr style=\"text-align: left;\">\n",
       "      <th>epoch</th>\n",
       "      <th>train_loss</th>\n",
       "      <th>valid_loss</th>\n",
       "      <th>time</th>\n",
       "    </tr>\n",
       "  </thead>\n",
       "  <tbody>\n",
       "    <tr>\n",
       "      <td>0</td>\n",
       "      <td>0.017917</td>\n",
       "      <td>0.019012</td>\n",
       "      <td>00:03</td>\n",
       "    </tr>\n",
       "  </tbody>\n",
       "</table>"
      ],
      "text/plain": [
       "<IPython.core.display.HTML object>"
      ]
     },
     "metadata": {},
     "output_type": "display_data"
    },
    {
     "data": {
      "text/html": [
       "\n",
       "<style>\n",
       "    /* Turns off some styling */\n",
       "    progress {\n",
       "        /* gets rid of default border in Firefox and Opera. */\n",
       "        border: none;\n",
       "        /* Needs to be in here for Safari polyfill so background images work as expected. */\n",
       "        background-size: auto;\n",
       "    }\n",
       "    progress:not([value]), progress:not([value])::-webkit-progress-bar {\n",
       "        background: repeating-linear-gradient(45deg, #7e7e7e, #7e7e7e 10px, #5c5c5c 10px, #5c5c5c 20px);\n",
       "    }\n",
       "    .progress-bar-interrupted, .progress-bar-interrupted::-webkit-progress-bar {\n",
       "        background: #F44336;\n",
       "    }\n",
       "</style>\n"
      ],
      "text/plain": [
       "<IPython.core.display.HTML object>"
      ]
     },
     "metadata": {},
     "output_type": "display_data"
    },
    {
     "data": {
      "text/html": [
       "<table border=\"1\" class=\"dataframe\">\n",
       "  <thead>\n",
       "    <tr style=\"text-align: left;\">\n",
       "      <th>epoch</th>\n",
       "      <th>train_loss</th>\n",
       "      <th>valid_loss</th>\n",
       "      <th>time</th>\n",
       "    </tr>\n",
       "  </thead>\n",
       "  <tbody>\n",
       "    <tr>\n",
       "      <td>0</td>\n",
       "      <td>0.013806</td>\n",
       "      <td>0.016063</td>\n",
       "      <td>00:03</td>\n",
       "    </tr>\n",
       "  </tbody>\n",
       "</table>"
      ],
      "text/plain": [
       "<IPython.core.display.HTML object>"
      ]
     },
     "metadata": {},
     "output_type": "display_data"
    },
    {
     "data": {
      "text/html": [
       "\n",
       "<style>\n",
       "    /* Turns off some styling */\n",
       "    progress {\n",
       "        /* gets rid of default border in Firefox and Opera. */\n",
       "        border: none;\n",
       "        /* Needs to be in here for Safari polyfill so background images work as expected. */\n",
       "        background-size: auto;\n",
       "    }\n",
       "    progress:not([value]), progress:not([value])::-webkit-progress-bar {\n",
       "        background: repeating-linear-gradient(45deg, #7e7e7e, #7e7e7e 10px, #5c5c5c 10px, #5c5c5c 20px);\n",
       "    }\n",
       "    .progress-bar-interrupted, .progress-bar-interrupted::-webkit-progress-bar {\n",
       "        background: #F44336;\n",
       "    }\n",
       "</style>\n"
      ],
      "text/plain": [
       "<IPython.core.display.HTML object>"
      ]
     },
     "metadata": {},
     "output_type": "display_data"
    },
    {
     "data": {
      "text/html": [
       "<table border=\"1\" class=\"dataframe\">\n",
       "  <thead>\n",
       "    <tr style=\"text-align: left;\">\n",
       "      <th>epoch</th>\n",
       "      <th>train_loss</th>\n",
       "      <th>valid_loss</th>\n",
       "      <th>time</th>\n",
       "    </tr>\n",
       "  </thead>\n",
       "  <tbody>\n",
       "    <tr>\n",
       "      <td>0</td>\n",
       "      <td>0.012660</td>\n",
       "      <td>0.013272</td>\n",
       "      <td>00:03</td>\n",
       "    </tr>\n",
       "  </tbody>\n",
       "</table>"
      ],
      "text/plain": [
       "<IPython.core.display.HTML object>"
      ]
     },
     "metadata": {},
     "output_type": "display_data"
    },
    {
     "data": {
      "text/html": [
       "\n",
       "<style>\n",
       "    /* Turns off some styling */\n",
       "    progress {\n",
       "        /* gets rid of default border in Firefox and Opera. */\n",
       "        border: none;\n",
       "        /* Needs to be in here for Safari polyfill so background images work as expected. */\n",
       "        background-size: auto;\n",
       "    }\n",
       "    progress:not([value]), progress:not([value])::-webkit-progress-bar {\n",
       "        background: repeating-linear-gradient(45deg, #7e7e7e, #7e7e7e 10px, #5c5c5c 10px, #5c5c5c 20px);\n",
       "    }\n",
       "    .progress-bar-interrupted, .progress-bar-interrupted::-webkit-progress-bar {\n",
       "        background: #F44336;\n",
       "    }\n",
       "</style>\n"
      ],
      "text/plain": [
       "<IPython.core.display.HTML object>"
      ]
     },
     "metadata": {},
     "output_type": "display_data"
    },
    {
     "data": {
      "text/html": [
       "<table border=\"1\" class=\"dataframe\">\n",
       "  <thead>\n",
       "    <tr style=\"text-align: left;\">\n",
       "      <th>epoch</th>\n",
       "      <th>train_loss</th>\n",
       "      <th>valid_loss</th>\n",
       "      <th>time</th>\n",
       "    </tr>\n",
       "  </thead>\n",
       "  <tbody>\n",
       "    <tr>\n",
       "      <td>0</td>\n",
       "      <td>0.010494</td>\n",
       "      <td>0.010704</td>\n",
       "      <td>00:03</td>\n",
       "    </tr>\n",
       "  </tbody>\n",
       "</table>"
      ],
      "text/plain": [
       "<IPython.core.display.HTML object>"
      ]
     },
     "metadata": {},
     "output_type": "display_data"
    },
    {
     "data": {
      "text/html": [
       "\n",
       "<style>\n",
       "    /* Turns off some styling */\n",
       "    progress {\n",
       "        /* gets rid of default border in Firefox and Opera. */\n",
       "        border: none;\n",
       "        /* Needs to be in here for Safari polyfill so background images work as expected. */\n",
       "        background-size: auto;\n",
       "    }\n",
       "    progress:not([value]), progress:not([value])::-webkit-progress-bar {\n",
       "        background: repeating-linear-gradient(45deg, #7e7e7e, #7e7e7e 10px, #5c5c5c 10px, #5c5c5c 20px);\n",
       "    }\n",
       "    .progress-bar-interrupted, .progress-bar-interrupted::-webkit-progress-bar {\n",
       "        background: #F44336;\n",
       "    }\n",
       "</style>\n"
      ],
      "text/plain": [
       "<IPython.core.display.HTML object>"
      ]
     },
     "metadata": {},
     "output_type": "display_data"
    },
    {
     "data": {
      "text/html": [
       "<table border=\"1\" class=\"dataframe\">\n",
       "  <thead>\n",
       "    <tr style=\"text-align: left;\">\n",
       "      <th>epoch</th>\n",
       "      <th>train_loss</th>\n",
       "      <th>valid_loss</th>\n",
       "      <th>time</th>\n",
       "    </tr>\n",
       "  </thead>\n",
       "  <tbody>\n",
       "    <tr>\n",
       "      <td>0</td>\n",
       "      <td>0.007630</td>\n",
       "      <td>0.008383</td>\n",
       "      <td>00:03</td>\n",
       "    </tr>\n",
       "  </tbody>\n",
       "</table>"
      ],
      "text/plain": [
       "<IPython.core.display.HTML object>"
      ]
     },
     "metadata": {},
     "output_type": "display_data"
    },
    {
     "data": {
      "text/html": [
       "\n",
       "<style>\n",
       "    /* Turns off some styling */\n",
       "    progress {\n",
       "        /* gets rid of default border in Firefox and Opera. */\n",
       "        border: none;\n",
       "        /* Needs to be in here for Safari polyfill so background images work as expected. */\n",
       "        background-size: auto;\n",
       "    }\n",
       "    progress:not([value]), progress:not([value])::-webkit-progress-bar {\n",
       "        background: repeating-linear-gradient(45deg, #7e7e7e, #7e7e7e 10px, #5c5c5c 10px, #5c5c5c 20px);\n",
       "    }\n",
       "    .progress-bar-interrupted, .progress-bar-interrupted::-webkit-progress-bar {\n",
       "        background: #F44336;\n",
       "    }\n",
       "</style>\n"
      ],
      "text/plain": [
       "<IPython.core.display.HTML object>"
      ]
     },
     "metadata": {},
     "output_type": "display_data"
    },
    {
     "data": {
      "text/html": [
       "<table border=\"1\" class=\"dataframe\">\n",
       "  <thead>\n",
       "    <tr style=\"text-align: left;\">\n",
       "      <th>epoch</th>\n",
       "      <th>train_loss</th>\n",
       "      <th>valid_loss</th>\n",
       "      <th>time</th>\n",
       "    </tr>\n",
       "  </thead>\n",
       "  <tbody>\n",
       "    <tr>\n",
       "      <td>0</td>\n",
       "      <td>0.006237</td>\n",
       "      <td>0.006303</td>\n",
       "      <td>00:03</td>\n",
       "    </tr>\n",
       "  </tbody>\n",
       "</table>"
      ],
      "text/plain": [
       "<IPython.core.display.HTML object>"
      ]
     },
     "metadata": {},
     "output_type": "display_data"
    },
    {
     "data": {
      "text/html": [
       "\n",
       "<style>\n",
       "    /* Turns off some styling */\n",
       "    progress {\n",
       "        /* gets rid of default border in Firefox and Opera. */\n",
       "        border: none;\n",
       "        /* Needs to be in here for Safari polyfill so background images work as expected. */\n",
       "        background-size: auto;\n",
       "    }\n",
       "    progress:not([value]), progress:not([value])::-webkit-progress-bar {\n",
       "        background: repeating-linear-gradient(45deg, #7e7e7e, #7e7e7e 10px, #5c5c5c 10px, #5c5c5c 20px);\n",
       "    }\n",
       "    .progress-bar-interrupted, .progress-bar-interrupted::-webkit-progress-bar {\n",
       "        background: #F44336;\n",
       "    }\n",
       "</style>\n"
      ],
      "text/plain": [
       "<IPython.core.display.HTML object>"
      ]
     },
     "metadata": {},
     "output_type": "display_data"
    },
    {
     "data": {
      "text/html": [
       "<table border=\"1\" class=\"dataframe\">\n",
       "  <thead>\n",
       "    <tr style=\"text-align: left;\">\n",
       "      <th>epoch</th>\n",
       "      <th>train_loss</th>\n",
       "      <th>valid_loss</th>\n",
       "      <th>time</th>\n",
       "    </tr>\n",
       "  </thead>\n",
       "  <tbody>\n",
       "    <tr>\n",
       "      <td>0</td>\n",
       "      <td>0.004513</td>\n",
       "      <td>0.004500</td>\n",
       "      <td>00:03</td>\n",
       "    </tr>\n",
       "  </tbody>\n",
       "</table>"
      ],
      "text/plain": [
       "<IPython.core.display.HTML object>"
      ]
     },
     "metadata": {},
     "output_type": "display_data"
    },
    {
     "data": {
      "text/html": [
       "\n",
       "<style>\n",
       "    /* Turns off some styling */\n",
       "    progress {\n",
       "        /* gets rid of default border in Firefox and Opera. */\n",
       "        border: none;\n",
       "        /* Needs to be in here for Safari polyfill so background images work as expected. */\n",
       "        background-size: auto;\n",
       "    }\n",
       "    progress:not([value]), progress:not([value])::-webkit-progress-bar {\n",
       "        background: repeating-linear-gradient(45deg, #7e7e7e, #7e7e7e 10px, #5c5c5c 10px, #5c5c5c 20px);\n",
       "    }\n",
       "    .progress-bar-interrupted, .progress-bar-interrupted::-webkit-progress-bar {\n",
       "        background: #F44336;\n",
       "    }\n",
       "</style>\n"
      ],
      "text/plain": [
       "<IPython.core.display.HTML object>"
      ]
     },
     "metadata": {},
     "output_type": "display_data"
    },
    {
     "data": {
      "text/html": [
       "<table border=\"1\" class=\"dataframe\">\n",
       "  <thead>\n",
       "    <tr style=\"text-align: left;\">\n",
       "      <th>epoch</th>\n",
       "      <th>train_loss</th>\n",
       "      <th>valid_loss</th>\n",
       "      <th>time</th>\n",
       "    </tr>\n",
       "  </thead>\n",
       "  <tbody>\n",
       "    <tr>\n",
       "      <td>0</td>\n",
       "      <td>0.002724</td>\n",
       "      <td>0.003008</td>\n",
       "      <td>00:03</td>\n",
       "    </tr>\n",
       "  </tbody>\n",
       "</table>"
      ],
      "text/plain": [
       "<IPython.core.display.HTML object>"
      ]
     },
     "metadata": {},
     "output_type": "display_data"
    },
    {
     "data": {
      "text/html": [
       "\n",
       "<style>\n",
       "    /* Turns off some styling */\n",
       "    progress {\n",
       "        /* gets rid of default border in Firefox and Opera. */\n",
       "        border: none;\n",
       "        /* Needs to be in here for Safari polyfill so background images work as expected. */\n",
       "        background-size: auto;\n",
       "    }\n",
       "    progress:not([value]), progress:not([value])::-webkit-progress-bar {\n",
       "        background: repeating-linear-gradient(45deg, #7e7e7e, #7e7e7e 10px, #5c5c5c 10px, #5c5c5c 20px);\n",
       "    }\n",
       "    .progress-bar-interrupted, .progress-bar-interrupted::-webkit-progress-bar {\n",
       "        background: #F44336;\n",
       "    }\n",
       "</style>\n"
      ],
      "text/plain": [
       "<IPython.core.display.HTML object>"
      ]
     },
     "metadata": {},
     "output_type": "display_data"
    },
    {
     "data": {
      "text/html": [
       "<table border=\"1\" class=\"dataframe\">\n",
       "  <thead>\n",
       "    <tr style=\"text-align: left;\">\n",
       "      <th>epoch</th>\n",
       "      <th>train_loss</th>\n",
       "      <th>valid_loss</th>\n",
       "      <th>time</th>\n",
       "    </tr>\n",
       "  </thead>\n",
       "  <tbody>\n",
       "    <tr>\n",
       "      <td>0</td>\n",
       "      <td>0.001650</td>\n",
       "      <td>0.001800</td>\n",
       "      <td>00:03</td>\n",
       "    </tr>\n",
       "  </tbody>\n",
       "</table>"
      ],
      "text/plain": [
       "<IPython.core.display.HTML object>"
      ]
     },
     "metadata": {},
     "output_type": "display_data"
    },
    {
     "data": {
      "text/html": [
       "\n",
       "<style>\n",
       "    /* Turns off some styling */\n",
       "    progress {\n",
       "        /* gets rid of default border in Firefox and Opera. */\n",
       "        border: none;\n",
       "        /* Needs to be in here for Safari polyfill so background images work as expected. */\n",
       "        background-size: auto;\n",
       "    }\n",
       "    progress:not([value]), progress:not([value])::-webkit-progress-bar {\n",
       "        background: repeating-linear-gradient(45deg, #7e7e7e, #7e7e7e 10px, #5c5c5c 10px, #5c5c5c 20px);\n",
       "    }\n",
       "    .progress-bar-interrupted, .progress-bar-interrupted::-webkit-progress-bar {\n",
       "        background: #F44336;\n",
       "    }\n",
       "</style>\n"
      ],
      "text/plain": [
       "<IPython.core.display.HTML object>"
      ]
     },
     "metadata": {},
     "output_type": "display_data"
    },
    {
     "data": {
      "text/html": [
       "<table border=\"1\" class=\"dataframe\">\n",
       "  <thead>\n",
       "    <tr style=\"text-align: left;\">\n",
       "      <th>epoch</th>\n",
       "      <th>train_loss</th>\n",
       "      <th>valid_loss</th>\n",
       "      <th>time</th>\n",
       "    </tr>\n",
       "  </thead>\n",
       "  <tbody>\n",
       "    <tr>\n",
       "      <td>0</td>\n",
       "      <td>0.000849</td>\n",
       "      <td>0.000922</td>\n",
       "      <td>00:03</td>\n",
       "    </tr>\n",
       "  </tbody>\n",
       "</table>"
      ],
      "text/plain": [
       "<IPython.core.display.HTML object>"
      ]
     },
     "metadata": {},
     "output_type": "display_data"
    },
    {
     "data": {
      "text/html": [
       "\n",
       "<style>\n",
       "    /* Turns off some styling */\n",
       "    progress {\n",
       "        /* gets rid of default border in Firefox and Opera. */\n",
       "        border: none;\n",
       "        /* Needs to be in here for Safari polyfill so background images work as expected. */\n",
       "        background-size: auto;\n",
       "    }\n",
       "    progress:not([value]), progress:not([value])::-webkit-progress-bar {\n",
       "        background: repeating-linear-gradient(45deg, #7e7e7e, #7e7e7e 10px, #5c5c5c 10px, #5c5c5c 20px);\n",
       "    }\n",
       "    .progress-bar-interrupted, .progress-bar-interrupted::-webkit-progress-bar {\n",
       "        background: #F44336;\n",
       "    }\n",
       "</style>\n"
      ],
      "text/plain": [
       "<IPython.core.display.HTML object>"
      ]
     },
     "metadata": {},
     "output_type": "display_data"
    },
    {
     "data": {
      "text/html": [
       "<table border=\"1\" class=\"dataframe\">\n",
       "  <thead>\n",
       "    <tr style=\"text-align: left;\">\n",
       "      <th>epoch</th>\n",
       "      <th>train_loss</th>\n",
       "      <th>valid_loss</th>\n",
       "      <th>time</th>\n",
       "    </tr>\n",
       "  </thead>\n",
       "  <tbody>\n",
       "    <tr>\n",
       "      <td>0</td>\n",
       "      <td>0.000335</td>\n",
       "      <td>0.000350</td>\n",
       "      <td>00:03</td>\n",
       "    </tr>\n",
       "  </tbody>\n",
       "</table>"
      ],
      "text/plain": [
       "<IPython.core.display.HTML object>"
      ]
     },
     "metadata": {},
     "output_type": "display_data"
    },
    {
     "data": {
      "text/html": [
       "\n",
       "<style>\n",
       "    /* Turns off some styling */\n",
       "    progress {\n",
       "        /* gets rid of default border in Firefox and Opera. */\n",
       "        border: none;\n",
       "        /* Needs to be in here for Safari polyfill so background images work as expected. */\n",
       "        background-size: auto;\n",
       "    }\n",
       "    progress:not([value]), progress:not([value])::-webkit-progress-bar {\n",
       "        background: repeating-linear-gradient(45deg, #7e7e7e, #7e7e7e 10px, #5c5c5c 10px, #5c5c5c 20px);\n",
       "    }\n",
       "    .progress-bar-interrupted, .progress-bar-interrupted::-webkit-progress-bar {\n",
       "        background: #F44336;\n",
       "    }\n",
       "</style>\n"
      ],
      "text/plain": [
       "<IPython.core.display.HTML object>"
      ]
     },
     "metadata": {},
     "output_type": "display_data"
    },
    {
     "data": {
      "text/html": [
       "<table border=\"1\" class=\"dataframe\">\n",
       "  <thead>\n",
       "    <tr style=\"text-align: left;\">\n",
       "      <th>epoch</th>\n",
       "      <th>train_loss</th>\n",
       "      <th>valid_loss</th>\n",
       "      <th>time</th>\n",
       "    </tr>\n",
       "  </thead>\n",
       "  <tbody>\n",
       "    <tr>\n",
       "      <td>0</td>\n",
       "      <td>0.000067</td>\n",
       "      <td>0.000069</td>\n",
       "      <td>00:03</td>\n",
       "    </tr>\n",
       "  </tbody>\n",
       "</table>"
      ],
      "text/plain": [
       "<IPython.core.display.HTML object>"
      ]
     },
     "metadata": {},
     "output_type": "display_data"
    },
    {
     "data": {
      "text/html": [
       "\n",
       "<style>\n",
       "    /* Turns off some styling */\n",
       "    progress {\n",
       "        /* gets rid of default border in Firefox and Opera. */\n",
       "        border: none;\n",
       "        /* Needs to be in here for Safari polyfill so background images work as expected. */\n",
       "        background-size: auto;\n",
       "    }\n",
       "    progress:not([value]), progress:not([value])::-webkit-progress-bar {\n",
       "        background: repeating-linear-gradient(45deg, #7e7e7e, #7e7e7e 10px, #5c5c5c 10px, #5c5c5c 20px);\n",
       "    }\n",
       "    .progress-bar-interrupted, .progress-bar-interrupted::-webkit-progress-bar {\n",
       "        background: #F44336;\n",
       "    }\n",
       "</style>\n"
      ],
      "text/plain": [
       "<IPython.core.display.HTML object>"
      ]
     },
     "metadata": {},
     "output_type": "display_data"
    },
    {
     "data": {
      "text/html": [
       "<table border=\"1\" class=\"dataframe\">\n",
       "  <thead>\n",
       "    <tr style=\"text-align: left;\">\n",
       "      <th>epoch</th>\n",
       "      <th>train_loss</th>\n",
       "      <th>valid_loss</th>\n",
       "      <th>time</th>\n",
       "    </tr>\n",
       "  </thead>\n",
       "  <tbody>\n",
       "    <tr>\n",
       "      <td>0</td>\n",
       "      <td>0.000002</td>\n",
       "      <td>0.000001</td>\n",
       "      <td>00:03</td>\n",
       "    </tr>\n",
       "  </tbody>\n",
       "</table>"
      ],
      "text/plain": [
       "<IPython.core.display.HTML object>"
      ]
     },
     "metadata": {},
     "output_type": "display_data"
    },
    {
     "data": {
      "text/html": [
       "\n",
       "<style>\n",
       "    /* Turns off some styling */\n",
       "    progress {\n",
       "        /* gets rid of default border in Firefox and Opera. */\n",
       "        border: none;\n",
       "        /* Needs to be in here for Safari polyfill so background images work as expected. */\n",
       "        background-size: auto;\n",
       "    }\n",
       "    progress:not([value]), progress:not([value])::-webkit-progress-bar {\n",
       "        background: repeating-linear-gradient(45deg, #7e7e7e, #7e7e7e 10px, #5c5c5c 10px, #5c5c5c 20px);\n",
       "    }\n",
       "    .progress-bar-interrupted, .progress-bar-interrupted::-webkit-progress-bar {\n",
       "        background: #F44336;\n",
       "    }\n",
       "</style>\n"
      ],
      "text/plain": [
       "<IPython.core.display.HTML object>"
      ]
     },
     "metadata": {},
     "output_type": "display_data"
    },
    {
     "data": {
      "text/html": [
       "<table border=\"1\" class=\"dataframe\">\n",
       "  <thead>\n",
       "    <tr style=\"text-align: left;\">\n",
       "      <th>epoch</th>\n",
       "      <th>train_loss</th>\n",
       "      <th>valid_loss</th>\n",
       "      <th>time</th>\n",
       "    </tr>\n",
       "  </thead>\n",
       "  <tbody>\n",
       "    <tr>\n",
       "      <td>0</td>\n",
       "      <td>0.000000</td>\n",
       "      <td>0.000000</td>\n",
       "      <td>00:03</td>\n",
       "    </tr>\n",
       "  </tbody>\n",
       "</table>"
      ],
      "text/plain": [
       "<IPython.core.display.HTML object>"
      ]
     },
     "metadata": {},
     "output_type": "display_data"
    },
    {
     "data": {
      "text/html": [
       "\n",
       "<style>\n",
       "    /* Turns off some styling */\n",
       "    progress {\n",
       "        /* gets rid of default border in Firefox and Opera. */\n",
       "        border: none;\n",
       "        /* Needs to be in here for Safari polyfill so background images work as expected. */\n",
       "        background-size: auto;\n",
       "    }\n",
       "    progress:not([value]), progress:not([value])::-webkit-progress-bar {\n",
       "        background: repeating-linear-gradient(45deg, #7e7e7e, #7e7e7e 10px, #5c5c5c 10px, #5c5c5c 20px);\n",
       "    }\n",
       "    .progress-bar-interrupted, .progress-bar-interrupted::-webkit-progress-bar {\n",
       "        background: #F44336;\n",
       "    }\n",
       "</style>\n"
      ],
      "text/plain": [
       "<IPython.core.display.HTML object>"
      ]
     },
     "metadata": {},
     "output_type": "display_data"
    },
    {
     "data": {
      "text/html": [
       "<table border=\"1\" class=\"dataframe\">\n",
       "  <thead>\n",
       "    <tr style=\"text-align: left;\">\n",
       "      <th>epoch</th>\n",
       "      <th>train_loss</th>\n",
       "      <th>valid_loss</th>\n",
       "      <th>time</th>\n",
       "    </tr>\n",
       "  </thead>\n",
       "  <tbody>\n",
       "    <tr>\n",
       "      <td>0</td>\n",
       "      <td>0.000000</td>\n",
       "      <td>0.000000</td>\n",
       "      <td>00:04</td>\n",
       "    </tr>\n",
       "  </tbody>\n",
       "</table>"
      ],
      "text/plain": [
       "<IPython.core.display.HTML object>"
      ]
     },
     "metadata": {},
     "output_type": "display_data"
    },
    {
     "data": {
      "text/html": [
       "\n",
       "<style>\n",
       "    /* Turns off some styling */\n",
       "    progress {\n",
       "        /* gets rid of default border in Firefox and Opera. */\n",
       "        border: none;\n",
       "        /* Needs to be in here for Safari polyfill so background images work as expected. */\n",
       "        background-size: auto;\n",
       "    }\n",
       "    progress:not([value]), progress:not([value])::-webkit-progress-bar {\n",
       "        background: repeating-linear-gradient(45deg, #7e7e7e, #7e7e7e 10px, #5c5c5c 10px, #5c5c5c 20px);\n",
       "    }\n",
       "    .progress-bar-interrupted, .progress-bar-interrupted::-webkit-progress-bar {\n",
       "        background: #F44336;\n",
       "    }\n",
       "</style>\n"
      ],
      "text/plain": [
       "<IPython.core.display.HTML object>"
      ]
     },
     "metadata": {},
     "output_type": "display_data"
    },
    {
     "data": {
      "text/html": [
       "<table border=\"1\" class=\"dataframe\">\n",
       "  <thead>\n",
       "    <tr style=\"text-align: left;\">\n",
       "      <th>epoch</th>\n",
       "      <th>train_loss</th>\n",
       "      <th>valid_loss</th>\n",
       "      <th>time</th>\n",
       "    </tr>\n",
       "  </thead>\n",
       "  <tbody>\n",
       "    <tr>\n",
       "      <td>0</td>\n",
       "      <td>0.000000</td>\n",
       "      <td>0.000000</td>\n",
       "      <td>00:03</td>\n",
       "    </tr>\n",
       "  </tbody>\n",
       "</table>"
      ],
      "text/plain": [
       "<IPython.core.display.HTML object>"
      ]
     },
     "metadata": {},
     "output_type": "display_data"
    },
    {
     "data": {
      "text/html": [
       "\n",
       "<style>\n",
       "    /* Turns off some styling */\n",
       "    progress {\n",
       "        /* gets rid of default border in Firefox and Opera. */\n",
       "        border: none;\n",
       "        /* Needs to be in here for Safari polyfill so background images work as expected. */\n",
       "        background-size: auto;\n",
       "    }\n",
       "    progress:not([value]), progress:not([value])::-webkit-progress-bar {\n",
       "        background: repeating-linear-gradient(45deg, #7e7e7e, #7e7e7e 10px, #5c5c5c 10px, #5c5c5c 20px);\n",
       "    }\n",
       "    .progress-bar-interrupted, .progress-bar-interrupted::-webkit-progress-bar {\n",
       "        background: #F44336;\n",
       "    }\n",
       "</style>\n"
      ],
      "text/plain": [
       "<IPython.core.display.HTML object>"
      ]
     },
     "metadata": {},
     "output_type": "display_data"
    },
    {
     "data": {
      "text/html": [
       "<table border=\"1\" class=\"dataframe\">\n",
       "  <thead>\n",
       "    <tr style=\"text-align: left;\">\n",
       "      <th>epoch</th>\n",
       "      <th>train_loss</th>\n",
       "      <th>valid_loss</th>\n",
       "      <th>time</th>\n",
       "    </tr>\n",
       "  </thead>\n",
       "  <tbody>\n",
       "    <tr>\n",
       "      <td>0</td>\n",
       "      <td>0.000000</td>\n",
       "      <td>0.000000</td>\n",
       "      <td>00:03</td>\n",
       "    </tr>\n",
       "  </tbody>\n",
       "</table>"
      ],
      "text/plain": [
       "<IPython.core.display.HTML object>"
      ]
     },
     "metadata": {},
     "output_type": "display_data"
    },
    {
     "data": {
      "text/html": [
       "\n",
       "<style>\n",
       "    /* Turns off some styling */\n",
       "    progress {\n",
       "        /* gets rid of default border in Firefox and Opera. */\n",
       "        border: none;\n",
       "        /* Needs to be in here for Safari polyfill so background images work as expected. */\n",
       "        background-size: auto;\n",
       "    }\n",
       "    progress:not([value]), progress:not([value])::-webkit-progress-bar {\n",
       "        background: repeating-linear-gradient(45deg, #7e7e7e, #7e7e7e 10px, #5c5c5c 10px, #5c5c5c 20px);\n",
       "    }\n",
       "    .progress-bar-interrupted, .progress-bar-interrupted::-webkit-progress-bar {\n",
       "        background: #F44336;\n",
       "    }\n",
       "</style>\n"
      ],
      "text/plain": [
       "<IPython.core.display.HTML object>"
      ]
     },
     "metadata": {},
     "output_type": "display_data"
    },
    {
     "data": {
      "text/html": [
       "<table border=\"1\" class=\"dataframe\">\n",
       "  <thead>\n",
       "    <tr style=\"text-align: left;\">\n",
       "      <th>epoch</th>\n",
       "      <th>train_loss</th>\n",
       "      <th>valid_loss</th>\n",
       "      <th>time</th>\n",
       "    </tr>\n",
       "  </thead>\n",
       "  <tbody>\n",
       "    <tr>\n",
       "      <td>0</td>\n",
       "      <td>0.000000</td>\n",
       "      <td>0.000000</td>\n",
       "      <td>00:03</td>\n",
       "    </tr>\n",
       "  </tbody>\n",
       "</table>"
      ],
      "text/plain": [
       "<IPython.core.display.HTML object>"
      ]
     },
     "metadata": {},
     "output_type": "display_data"
    },
    {
     "data": {
      "text/html": [
       "\n",
       "<style>\n",
       "    /* Turns off some styling */\n",
       "    progress {\n",
       "        /* gets rid of default border in Firefox and Opera. */\n",
       "        border: none;\n",
       "        /* Needs to be in here for Safari polyfill so background images work as expected. */\n",
       "        background-size: auto;\n",
       "    }\n",
       "    progress:not([value]), progress:not([value])::-webkit-progress-bar {\n",
       "        background: repeating-linear-gradient(45deg, #7e7e7e, #7e7e7e 10px, #5c5c5c 10px, #5c5c5c 20px);\n",
       "    }\n",
       "    .progress-bar-interrupted, .progress-bar-interrupted::-webkit-progress-bar {\n",
       "        background: #F44336;\n",
       "    }\n",
       "</style>\n"
      ],
      "text/plain": [
       "<IPython.core.display.HTML object>"
      ]
     },
     "metadata": {},
     "output_type": "display_data"
    },
    {
     "data": {
      "text/html": [
       "<table border=\"1\" class=\"dataframe\">\n",
       "  <thead>\n",
       "    <tr style=\"text-align: left;\">\n",
       "      <th>epoch</th>\n",
       "      <th>train_loss</th>\n",
       "      <th>valid_loss</th>\n",
       "      <th>time</th>\n",
       "    </tr>\n",
       "  </thead>\n",
       "  <tbody>\n",
       "    <tr>\n",
       "      <td>0</td>\n",
       "      <td>0.000000</td>\n",
       "      <td>0.000000</td>\n",
       "      <td>00:03</td>\n",
       "    </tr>\n",
       "  </tbody>\n",
       "</table>"
      ],
      "text/plain": [
       "<IPython.core.display.HTML object>"
      ]
     },
     "metadata": {},
     "output_type": "display_data"
    },
    {
     "data": {
      "text/html": [
       "\n",
       "<style>\n",
       "    /* Turns off some styling */\n",
       "    progress {\n",
       "        /* gets rid of default border in Firefox and Opera. */\n",
       "        border: none;\n",
       "        /* Needs to be in here for Safari polyfill so background images work as expected. */\n",
       "        background-size: auto;\n",
       "    }\n",
       "    progress:not([value]), progress:not([value])::-webkit-progress-bar {\n",
       "        background: repeating-linear-gradient(45deg, #7e7e7e, #7e7e7e 10px, #5c5c5c 10px, #5c5c5c 20px);\n",
       "    }\n",
       "    .progress-bar-interrupted, .progress-bar-interrupted::-webkit-progress-bar {\n",
       "        background: #F44336;\n",
       "    }\n",
       "</style>\n"
      ],
      "text/plain": [
       "<IPython.core.display.HTML object>"
      ]
     },
     "metadata": {},
     "output_type": "display_data"
    },
    {
     "data": {
      "text/html": [
       "<table border=\"1\" class=\"dataframe\">\n",
       "  <thead>\n",
       "    <tr style=\"text-align: left;\">\n",
       "      <th>epoch</th>\n",
       "      <th>train_loss</th>\n",
       "      <th>valid_loss</th>\n",
       "      <th>time</th>\n",
       "    </tr>\n",
       "  </thead>\n",
       "  <tbody>\n",
       "    <tr>\n",
       "      <td>0</td>\n",
       "      <td>0.000000</td>\n",
       "      <td>0.000000</td>\n",
       "      <td>00:03</td>\n",
       "    </tr>\n",
       "  </tbody>\n",
       "</table>"
      ],
      "text/plain": [
       "<IPython.core.display.HTML object>"
      ]
     },
     "metadata": {},
     "output_type": "display_data"
    },
    {
     "data": {
      "text/html": [
       "\n",
       "<style>\n",
       "    /* Turns off some styling */\n",
       "    progress {\n",
       "        /* gets rid of default border in Firefox and Opera. */\n",
       "        border: none;\n",
       "        /* Needs to be in here for Safari polyfill so background images work as expected. */\n",
       "        background-size: auto;\n",
       "    }\n",
       "    progress:not([value]), progress:not([value])::-webkit-progress-bar {\n",
       "        background: repeating-linear-gradient(45deg, #7e7e7e, #7e7e7e 10px, #5c5c5c 10px, #5c5c5c 20px);\n",
       "    }\n",
       "    .progress-bar-interrupted, .progress-bar-interrupted::-webkit-progress-bar {\n",
       "        background: #F44336;\n",
       "    }\n",
       "</style>\n"
      ],
      "text/plain": [
       "<IPython.core.display.HTML object>"
      ]
     },
     "metadata": {},
     "output_type": "display_data"
    },
    {
     "data": {
      "text/html": [
       "<table border=\"1\" class=\"dataframe\">\n",
       "  <thead>\n",
       "    <tr style=\"text-align: left;\">\n",
       "      <th>epoch</th>\n",
       "      <th>train_loss</th>\n",
       "      <th>valid_loss</th>\n",
       "      <th>time</th>\n",
       "    </tr>\n",
       "  </thead>\n",
       "  <tbody>\n",
       "    <tr>\n",
       "      <td>0</td>\n",
       "      <td>0.000000</td>\n",
       "      <td>0.000000</td>\n",
       "      <td>00:03</td>\n",
       "    </tr>\n",
       "  </tbody>\n",
       "</table>"
      ],
      "text/plain": [
       "<IPython.core.display.HTML object>"
      ]
     },
     "metadata": {},
     "output_type": "display_data"
    },
    {
     "data": {
      "text/html": [
       "\n",
       "<style>\n",
       "    /* Turns off some styling */\n",
       "    progress {\n",
       "        /* gets rid of default border in Firefox and Opera. */\n",
       "        border: none;\n",
       "        /* Needs to be in here for Safari polyfill so background images work as expected. */\n",
       "        background-size: auto;\n",
       "    }\n",
       "    progress:not([value]), progress:not([value])::-webkit-progress-bar {\n",
       "        background: repeating-linear-gradient(45deg, #7e7e7e, #7e7e7e 10px, #5c5c5c 10px, #5c5c5c 20px);\n",
       "    }\n",
       "    .progress-bar-interrupted, .progress-bar-interrupted::-webkit-progress-bar {\n",
       "        background: #F44336;\n",
       "    }\n",
       "</style>\n"
      ],
      "text/plain": [
       "<IPython.core.display.HTML object>"
      ]
     },
     "metadata": {},
     "output_type": "display_data"
    },
    {
     "data": {
      "text/html": [
       "<table border=\"1\" class=\"dataframe\">\n",
       "  <thead>\n",
       "    <tr style=\"text-align: left;\">\n",
       "      <th>epoch</th>\n",
       "      <th>train_loss</th>\n",
       "      <th>valid_loss</th>\n",
       "      <th>time</th>\n",
       "    </tr>\n",
       "  </thead>\n",
       "  <tbody>\n",
       "    <tr>\n",
       "      <td>0</td>\n",
       "      <td>0.000000</td>\n",
       "      <td>0.000000</td>\n",
       "      <td>00:03</td>\n",
       "    </tr>\n",
       "  </tbody>\n",
       "</table>"
      ],
      "text/plain": [
       "<IPython.core.display.HTML object>"
      ]
     },
     "metadata": {},
     "output_type": "display_data"
    },
    {
     "data": {
      "text/html": [
       "\n",
       "<style>\n",
       "    /* Turns off some styling */\n",
       "    progress {\n",
       "        /* gets rid of default border in Firefox and Opera. */\n",
       "        border: none;\n",
       "        /* Needs to be in here for Safari polyfill so background images work as expected. */\n",
       "        background-size: auto;\n",
       "    }\n",
       "    progress:not([value]), progress:not([value])::-webkit-progress-bar {\n",
       "        background: repeating-linear-gradient(45deg, #7e7e7e, #7e7e7e 10px, #5c5c5c 10px, #5c5c5c 20px);\n",
       "    }\n",
       "    .progress-bar-interrupted, .progress-bar-interrupted::-webkit-progress-bar {\n",
       "        background: #F44336;\n",
       "    }\n",
       "</style>\n"
      ],
      "text/plain": [
       "<IPython.core.display.HTML object>"
      ]
     },
     "metadata": {},
     "output_type": "display_data"
    },
    {
     "data": {
      "text/html": [
       "<table border=\"1\" class=\"dataframe\">\n",
       "  <thead>\n",
       "    <tr style=\"text-align: left;\">\n",
       "      <th>epoch</th>\n",
       "      <th>train_loss</th>\n",
       "      <th>valid_loss</th>\n",
       "      <th>time</th>\n",
       "    </tr>\n",
       "  </thead>\n",
       "  <tbody>\n",
       "    <tr>\n",
       "      <td>0</td>\n",
       "      <td>0.000000</td>\n",
       "      <td>0.000000</td>\n",
       "      <td>00:03</td>\n",
       "    </tr>\n",
       "  </tbody>\n",
       "</table>"
      ],
      "text/plain": [
       "<IPython.core.display.HTML object>"
      ]
     },
     "metadata": {},
     "output_type": "display_data"
    },
    {
     "data": {
      "text/html": [
       "\n",
       "<style>\n",
       "    /* Turns off some styling */\n",
       "    progress {\n",
       "        /* gets rid of default border in Firefox and Opera. */\n",
       "        border: none;\n",
       "        /* Needs to be in here for Safari polyfill so background images work as expected. */\n",
       "        background-size: auto;\n",
       "    }\n",
       "    progress:not([value]), progress:not([value])::-webkit-progress-bar {\n",
       "        background: repeating-linear-gradient(45deg, #7e7e7e, #7e7e7e 10px, #5c5c5c 10px, #5c5c5c 20px);\n",
       "    }\n",
       "    .progress-bar-interrupted, .progress-bar-interrupted::-webkit-progress-bar {\n",
       "        background: #F44336;\n",
       "    }\n",
       "</style>\n"
      ],
      "text/plain": [
       "<IPython.core.display.HTML object>"
      ]
     },
     "metadata": {},
     "output_type": "display_data"
    },
    {
     "data": {
      "text/html": [
       "<table border=\"1\" class=\"dataframe\">\n",
       "  <thead>\n",
       "    <tr style=\"text-align: left;\">\n",
       "      <th>epoch</th>\n",
       "      <th>train_loss</th>\n",
       "      <th>valid_loss</th>\n",
       "      <th>time</th>\n",
       "    </tr>\n",
       "  </thead>\n",
       "  <tbody>\n",
       "    <tr>\n",
       "      <td>0</td>\n",
       "      <td>0.000000</td>\n",
       "      <td>0.000000</td>\n",
       "      <td>00:03</td>\n",
       "    </tr>\n",
       "  </tbody>\n",
       "</table>"
      ],
      "text/plain": [
       "<IPython.core.display.HTML object>"
      ]
     },
     "metadata": {},
     "output_type": "display_data"
    },
    {
     "data": {
      "text/html": [
       "\n",
       "<style>\n",
       "    /* Turns off some styling */\n",
       "    progress {\n",
       "        /* gets rid of default border in Firefox and Opera. */\n",
       "        border: none;\n",
       "        /* Needs to be in here for Safari polyfill so background images work as expected. */\n",
       "        background-size: auto;\n",
       "    }\n",
       "    progress:not([value]), progress:not([value])::-webkit-progress-bar {\n",
       "        background: repeating-linear-gradient(45deg, #7e7e7e, #7e7e7e 10px, #5c5c5c 10px, #5c5c5c 20px);\n",
       "    }\n",
       "    .progress-bar-interrupted, .progress-bar-interrupted::-webkit-progress-bar {\n",
       "        background: #F44336;\n",
       "    }\n",
       "</style>\n"
      ],
      "text/plain": [
       "<IPython.core.display.HTML object>"
      ]
     },
     "metadata": {},
     "output_type": "display_data"
    },
    {
     "data": {
      "text/html": [
       "<table border=\"1\" class=\"dataframe\">\n",
       "  <thead>\n",
       "    <tr style=\"text-align: left;\">\n",
       "      <th>epoch</th>\n",
       "      <th>train_loss</th>\n",
       "      <th>valid_loss</th>\n",
       "      <th>time</th>\n",
       "    </tr>\n",
       "  </thead>\n",
       "  <tbody>\n",
       "    <tr>\n",
       "      <td>0</td>\n",
       "      <td>0.000000</td>\n",
       "      <td>0.000000</td>\n",
       "      <td>00:03</td>\n",
       "    </tr>\n",
       "  </tbody>\n",
       "</table>"
      ],
      "text/plain": [
       "<IPython.core.display.HTML object>"
      ]
     },
     "metadata": {},
     "output_type": "display_data"
    },
    {
     "data": {
      "text/html": [
       "\n",
       "<style>\n",
       "    /* Turns off some styling */\n",
       "    progress {\n",
       "        /* gets rid of default border in Firefox and Opera. */\n",
       "        border: none;\n",
       "        /* Needs to be in here for Safari polyfill so background images work as expected. */\n",
       "        background-size: auto;\n",
       "    }\n",
       "    progress:not([value]), progress:not([value])::-webkit-progress-bar {\n",
       "        background: repeating-linear-gradient(45deg, #7e7e7e, #7e7e7e 10px, #5c5c5c 10px, #5c5c5c 20px);\n",
       "    }\n",
       "    .progress-bar-interrupted, .progress-bar-interrupted::-webkit-progress-bar {\n",
       "        background: #F44336;\n",
       "    }\n",
       "</style>\n"
      ],
      "text/plain": [
       "<IPython.core.display.HTML object>"
      ]
     },
     "metadata": {},
     "output_type": "display_data"
    },
    {
     "data": {
      "text/html": [
       "<table border=\"1\" class=\"dataframe\">\n",
       "  <thead>\n",
       "    <tr style=\"text-align: left;\">\n",
       "      <th>epoch</th>\n",
       "      <th>train_loss</th>\n",
       "      <th>valid_loss</th>\n",
       "      <th>time</th>\n",
       "    </tr>\n",
       "  </thead>\n",
       "  <tbody>\n",
       "    <tr>\n",
       "      <td>0</td>\n",
       "      <td>0.000000</td>\n",
       "      <td>0.000000</td>\n",
       "      <td>00:03</td>\n",
       "    </tr>\n",
       "  </tbody>\n",
       "</table>"
      ],
      "text/plain": [
       "<IPython.core.display.HTML object>"
      ]
     },
     "metadata": {},
     "output_type": "display_data"
    },
    {
     "data": {
      "text/html": [
       "\n",
       "<style>\n",
       "    /* Turns off some styling */\n",
       "    progress {\n",
       "        /* gets rid of default border in Firefox and Opera. */\n",
       "        border: none;\n",
       "        /* Needs to be in here for Safari polyfill so background images work as expected. */\n",
       "        background-size: auto;\n",
       "    }\n",
       "    progress:not([value]), progress:not([value])::-webkit-progress-bar {\n",
       "        background: repeating-linear-gradient(45deg, #7e7e7e, #7e7e7e 10px, #5c5c5c 10px, #5c5c5c 20px);\n",
       "    }\n",
       "    .progress-bar-interrupted, .progress-bar-interrupted::-webkit-progress-bar {\n",
       "        background: #F44336;\n",
       "    }\n",
       "</style>\n"
      ],
      "text/plain": [
       "<IPython.core.display.HTML object>"
      ]
     },
     "metadata": {},
     "output_type": "display_data"
    },
    {
     "data": {
      "text/html": [
       "<table border=\"1\" class=\"dataframe\">\n",
       "  <thead>\n",
       "    <tr style=\"text-align: left;\">\n",
       "      <th>epoch</th>\n",
       "      <th>train_loss</th>\n",
       "      <th>valid_loss</th>\n",
       "      <th>time</th>\n",
       "    </tr>\n",
       "  </thead>\n",
       "  <tbody>\n",
       "    <tr>\n",
       "      <td>0</td>\n",
       "      <td>0.000000</td>\n",
       "      <td>0.000000</td>\n",
       "      <td>00:03</td>\n",
       "    </tr>\n",
       "  </tbody>\n",
       "</table>"
      ],
      "text/plain": [
       "<IPython.core.display.HTML object>"
      ]
     },
     "metadata": {},
     "output_type": "display_data"
    },
    {
     "data": {
      "text/html": [
       "\n",
       "<style>\n",
       "    /* Turns off some styling */\n",
       "    progress {\n",
       "        /* gets rid of default border in Firefox and Opera. */\n",
       "        border: none;\n",
       "        /* Needs to be in here for Safari polyfill so background images work as expected. */\n",
       "        background-size: auto;\n",
       "    }\n",
       "    progress:not([value]), progress:not([value])::-webkit-progress-bar {\n",
       "        background: repeating-linear-gradient(45deg, #7e7e7e, #7e7e7e 10px, #5c5c5c 10px, #5c5c5c 20px);\n",
       "    }\n",
       "    .progress-bar-interrupted, .progress-bar-interrupted::-webkit-progress-bar {\n",
       "        background: #F44336;\n",
       "    }\n",
       "</style>\n"
      ],
      "text/plain": [
       "<IPython.core.display.HTML object>"
      ]
     },
     "metadata": {},
     "output_type": "display_data"
    },
    {
     "data": {
      "text/html": [
       "<table border=\"1\" class=\"dataframe\">\n",
       "  <thead>\n",
       "    <tr style=\"text-align: left;\">\n",
       "      <th>epoch</th>\n",
       "      <th>train_loss</th>\n",
       "      <th>valid_loss</th>\n",
       "      <th>time</th>\n",
       "    </tr>\n",
       "  </thead>\n",
       "  <tbody>\n",
       "    <tr>\n",
       "      <td>0</td>\n",
       "      <td>0.000000</td>\n",
       "      <td>0.000000</td>\n",
       "      <td>00:03</td>\n",
       "    </tr>\n",
       "  </tbody>\n",
       "</table>"
      ],
      "text/plain": [
       "<IPython.core.display.HTML object>"
      ]
     },
     "metadata": {},
     "output_type": "display_data"
    },
    {
     "data": {
      "application/vnd.jupyter.widget-view+json": {
       "model_id": "3ffc11e1504b42d3914a50bd49fbaaa9",
       "version_major": 2,
       "version_minor": 0
      },
      "image/png": "[encoded data removed]",
      "text/html": [
       "\n",
       "            <div style=\"display: inline-block;\">\n",
       "                <div class=\"jupyter-widgets widget-label\" style=\"text-align: center;\">\n",
       "                    Figure\n",
       "                </div>\n",
       "                <img src='data:image/png;base64,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' width=800.0/>\n",
       "            </div>\n",
       "        "
      ],
      "text/plain": [
       "Canvas(toolbar=Toolbar(toolitems=[('Home', 'Reset original view', 'home', 'home'), ('Back', 'Back to previous …"
      ]
     },
     "metadata": {},
     "output_type": "display_data"
    }
   ],
   "source": [
    "def plot_a_frame(ax, tls_train, sample_id, learner, epoch_no):\n",
    "    if hasattr(learner, \"smooth_loss\"):\n",
    "        crt_loss = learner.smooth_loss.item()\n",
    "    else:\n",
    "         crt_loss = 1   \n",
    "    crt_mu = learner.model.mu.detach().item()\n",
    "    crt_sigma = learner.model.sigma.detach().item()\n",
    "    sample = tls_train[sample_id][0]\n",
    "    sample_t = torch.tensor(sample, device=torch.device('cuda')).unsqueeze(0)\n",
    "    sample_gt = tls_train[sample_id][1]\n",
    "    transformed_signal = learner.model(sample_t).detach().squeeze(0).cpu().numpy()\n",
    "    crt_string =    f\"Current: mu {crt_mu:>6.2f}, sigma {crt_sigma:<4.2f}, loss: {crt_loss:5.3f}, epoch: {epoch_no:2d}\"\n",
    "    target_string = f\"Target:  mu {target_mu:>6.2f}, sigma {target_sigma:<4.2f}\"\n",
    "    fontdict = {\"family\": \"monospace\"}\n",
    "    ax.set_xlim(-5, 105)\n",
    "    ax.set_ylim(-1.1, 1.15)\n",
    "    ax.plot(sample, label=\"Network input\",linewidth=1, alpha = 0.4, color=\"k\")\n",
    "    ax.plot(transformed_signal, label=\"Network output\")\n",
    "    ax.plot(sample_gt, label=\"GT\")\n",
    "    ax.text(-3, 1, crt_string, fontdict)\n",
    "    ax.text(-3, 0.88, target_string, fontdict)\n",
    "    ax.legend(loc=(0.77, 0.7))    \n",
    "\n",
    "fig, ax = plt.subplots(1,1, figsize=(8,3))\n",
    "# plot_a_frame(ax, tls_train, sample_id, learner, 1)\n",
    "\n",
    "def animate_func(i):\n",
    "    ax.clear()\n",
    "    learner.fit_one_cycle(1, 2e-3)\n",
    "    plot_a_frame(ax, tls_train, sample_id, learner, i)\n",
    "    fig.tight_layout()\n",
    "    \n",
    "learner.model.init_params()    \n",
    "the_animation = animation.FuncAnimation(fig, animate_func, list(range(45)), )  # 60\n",
    "the_animation.save(\"fig3_learning.gif\", dpi=120, writer=animation.PillowWriter(fps=10))"
   ]
  }
 ],
 "metadata": {
  "kernelspec": {
   "display_name": "Python 3 (ipykernel)",
   "language": "python",
   "name": "python3"
  },
  "language_info": {
   "codemirror_mode": {
    "name": "ipython",
    "version": 3
   },
   "file_extension": ".py",
   "mimetype": "text/x-python",
   "name": "python",
   "nbconvert_exporter": "python",
   "pygments_lexer": "ipython3",
   "version": "3.9.2"
  }
 },
 "nbformat": 4,
 "nbformat_minor": 5
}
